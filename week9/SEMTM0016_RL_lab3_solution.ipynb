{
  "nbformat": 4,
  "nbformat_minor": 0,
  "metadata": {
    "colab": {
      "provenance": [],
      "toc_visible": true
    },
    "kernelspec": {
      "name": "python3",
      "display_name": "Python 3"
    },
    "language_info": {
      "name": "python"
    }
  },
  "cells": [
    {
      "cell_type": "markdown",
      "metadata": {
        "id": "Cgf7mqEmqDz1"
      },
      "source": [
        "# SEMTM0016 Week 22: Policy based Reinforcement Learning\n",
        "\n",
        "## Instructions\n",
        "1.   To start this notebook, please duplicate this notebook at first:\n",
        "  - Choose \"File => Save a copy in Drive\" and open/run it in Colab.\n",
        "  - Or you can download the notebook and run it in your local jupyter notebook server.\n",
        "2.   For the coding assignment and practice, please write your code at `### TODO ###` blocks or in a new cell. For analysis report, you are free to use as many blocks as you need."
      ]
    },
    {
      "cell_type": "markdown",
      "source": [
        "# Section I: Policy-based Reinforcement Learning\n",
        "In previous value-based Reinforcement Learning, we basically maintain a value function and the policy is generated directly from the value function. In this section, we focus on model-free policy based Reinforcement Learning.\n",
        "\n",
        "In this setting, we use $\\theta$ to directly parameterise the policy:\n",
        "$$\n",
        "\\pi_{\\theta}(a|s)=\\mathbb{P}_{\\theta}[a \\mid s]\n",
        "$$\n",
        "\n",
        "In order to get better policy, we need to quantify the objective/measurement of the policy, bascially, these exists three common objectives. Recall the definition of state value function and state-action value function.\n",
        "\n",
        "$$\n",
        "V_{\\pi}(s)=\\mathbb{E}_{\\pi}\\left[\\sum_{k=0}^{\\infty} \\gamma^{k} R_{t+k+1} \\mid S_{t}=s\\right]\n",
        "$$\n",
        "$$\n",
        "Q_{\\pi}(s, a)=\\mathbb{E}_{\\pi}\\left[\\sum_{k=0}^{\\infty} \\gamma^{k} R_{t+k+1} \\mid S_{t}=s, A_{t}=a\\right]\n",
        "$$\n",
        "\n",
        "Under episodic environments, the value function of the first state can be used. Here episodic environments refer to the tasks that have a terminal state.\n",
        "$$\n",
        "J_{1}(\\theta)=V^{\\pi_{\\theta}}\\left(s_{1}\\right)=\\mathbb{E}_{\\pi_{\\theta}}\\left[v_{1}\\right]\n",
        "$$\n",
        "\n",
        "In continuing environments we can use the average value. In contrast to episodic environments, continuing environments refer to the tasks that have infinite length with no terminal state.\n",
        "\n",
        "$$\n",
        "J_{a v V}(\\theta)=\\sum_{s} d^{\\pi_{\\theta}}(s) V^{\\pi_{\\theta}}(s)\n",
        "$$\n",
        "\n",
        "Or we can also use average reward per time-step.\n",
        "$$\n",
        "J_{a v R}(\\theta)=\\sum_{s} d^{\\pi_{\\theta}}(s) \\sum_{a} \\pi_{\\theta}(s, a) \\mathcal{R}_{s}^{a}\n",
        "$$\n",
        "\n",
        "where $d^{\\pi_{\\theta}}(s)$ is the stationary state distribution of Markov Chain mentioned in the lecture.\n"
      ],
      "metadata": {
        "id": "Wg_IqzvOqOYB"
      }
    },
    {
      "cell_type": "markdown",
      "metadata": {
        "id": "3hS-bFSlXGH2"
      },
      "source": [
        "## Q1: Analytical Value Function and Policy Gradient in Tabular Markov Decision Process\n",
        "If we know the environment dynamics: transition matrix andreward matrix, we can analytically calculate the objective function defined above. Here we offer a tabular markov decision process (MDP) example to help you understand it.\n",
        "\n",
        "In this part, you are going to do these three steps:\n",
        "\n",
        "* **Step I**: We will give you the necessary symbols and some examples to help you get the mathmatical formulation of value function. You need to give out the mathmatical formulation for the left things.\n",
        "* **Step II**: We will give you an example of tabular MDP and some necessary codes. Given the mathmatical formulation derived in Step I, you need to implement code to calculate analytical solution of value function and its gradient w.r.t the policy parameters.\n",
        "* **Step III**: Based on the analytical gradient derived in Step II, you can conduct analytical policy gradient ascent to increase the performance.\n"
      ]
    },
    {
      "cell_type": "markdown",
      "metadata": {
        "id": "MWxl5Hk2gJJf"
      },
      "source": [
        "### Step I: Analytical solution of value function\n",
        "\n",
        "We can calculate the Bellman expectation equation in matrix form. In a tabular example, let us denote dimension of state $S$ as $|S|$, dimension of action $A$ as $|A|$, the value matrix $V\\in \\mathbb{R}^{|S|}$, the reward matrix $R\\in \\mathbb{R}^{|S|\\times|A|}$, the transition matrix $P\\in \\mathbb{R}^{|S|\\times|A|\\times|S|}$, the policy matrix $\\pi \\in \\mathbb{R}^{|S|\\times|A|}$. The following Bellman equation holds:\n",
        "\n",
        "\\begin{equation}\n",
        "V(s) = \\sum_{a}\\pi (a|s)r(s,a) + \\gamma\\sum_{a}\\pi(a|s)\\sum_{s'} P(s'|s,a) V(s')\n",
        "\\end{equation}\n",
        "\n",
        "And if we can rearrange it in matrix form, like the equation below:\n",
        "\n",
        "\\begin{equation}\n",
        "V^{\\pi} = R^{\\pi} + \\gamma P^{\\pi}V^{\\pi} \\tag{1}\n",
        "\\end{equation}\n",
        "\n",
        "where $V^{\\pi}\\in\\mathbb{R}^{|S|}$ denotes the value matrix for policy $\\pi$, $R^{\\pi}\\in\\mathbb{R}^{|S|}$ represents the immediate reward given by the reward matrix and policy $\\pi$, $P^{\\pi}\\in\\mathbb{R}^{|S|\\times|S|}$ represents the policy based state transition matrix given transition matrix $P$ and policy $\\pi$. Then we are able to directly calculate the value function by solving this equation:\n",
        "\n",
        "\\begin{equation}\n",
        "V^{\\pi} = (I - \\gamma P^{\\pi})^{-1}R^{\\pi}\n",
        "\\end{equation}\n",
        "\n",
        "$R^{\\pi}$ is easy to calculate by $\\sum_{a}R \\cdot \\pi$, where $\\cdot$ denotes the element-wise multiplication and $\\sum_{a}$ refers to the summation over action dimension.\n",
        "\n",
        "**In this part, you need to do the following things**:\n",
        "\n",
        "* Following the similar way of constructing $R^{\\pi}$ to consturct the matirx form of $P^{\\pi}$ in mathmatically using policy $\\pi$ and transition matrix $P$. It might be hard to rigorously write down the mathmatical formulation, you can also try to depict the procedures to calculate $P^{\\pi}$ with symbols and words.\n"
      ]
    },
    {
      "cell_type": "markdown",
      "metadata": {
        "id": "7mVM73zry6tD"
      },
      "source": [
        "**Answer**:\n",
        "$$P^{\\pi} = \\sum_a P \\otimes \\pi$$\n",
        "Here this equation can be implemented as follows: Note that $P\\in \\mathbb{R}^{|S|\\times|A|\\times|S|}$ and $\\pi \\in \\mathbb{R}^{|S|\\times|A|}$. We need to broadcast $\\pi \\in \\mathbb{R}^{|S|\\times|A|}$ to $\\pi \\in \\mathbb{R}^{|S|\\times|A|\\times|S|}$ by repeating itself for $|S|$ times. Then we can take element-wise multiplication between $P$ and $\\pi$ then take the summation over the action dimension.\n",
        "\n",
        "Another way to represent it (not from matrix-form)\n",
        "\n",
        "\\begin{equation}\n",
        "\\begin{aligned}\n",
        "\\mathcal{P}_{s, s^{\\prime}}^{\\pi} &=\\sum_{a \\in \\mathcal{A}} \\pi(a \\mid s) \\mathcal{P}_{s s^{\\prime}}^{a} \\\\\n",
        "\\mathcal{R}_{s}^{\\pi} &=\\sum_{a \\in \\mathcal{A}} \\pi(a \\mid s) \\mathcal{R}_{s}^{a}\n",
        "\\end{aligned}\n",
        "\\tag{2}\n",
        "\\end{equation}"
      ]
    },
    {
      "cell_type": "markdown",
      "metadata": {
        "id": "ElWWT_z1zKeN"
      },
      "source": [
        "### Step II:\n",
        "\n",
        "Given the matirx form we have in step I, in this part you need to implement the function to calculate the analytical solution of value matrix. Another benefit of this analytical solution is that we can directly calculate the analytical solution of policy gradient $\\frac{\\partial V^{\\pi}(s_0)}{\\partial {\\pi}}$ with automatic differentiation, where $s_0$ refers to the initial state. So here we are choosing the $J_{1}(\\theta)$ objective function. In this exercise, we will give you a tabular MDP environment with tabular reward matrix and tabular transition matrix.\n",
        "\n",
        "**You need to do the following things:**\n",
        "\n",
        "* Fully read the tabular MDP environment code to understand how it works\n",
        "* Complete the **policy evaluation** function. Implement the function to calculate the analytical solution of value function based on the results we derive in step I.\n",
        "* Complete the **policy gradient** function. Implement the function to calculate the analytical solution of policy gradient based on automatic differentiation toolbox."
      ]
    },
    {
      "cell_type": "code",
      "source": [
        "import matplotlib.pyplot as plt\n",
        "import numpy as np\n",
        "import torch\n",
        "import torch.nn.functional as F"
      ],
      "metadata": {
        "id": "D34Eu9kNe5wT"
      },
      "execution_count": null,
      "outputs": []
    },
    {
      "cell_type": "code",
      "metadata": {
        "id": "ZDDTZv24ebxd",
        "colab": {
          "base_uri": "https://localhost:8080/"
        },
        "outputId": "7ccfacc6-e6bd-4470-9283-c30f937f1ebd"
      },
      "source": [
        "# ns = 3, na = 2, there exist 3 states and 2 actions.\n",
        "# The transition probiability matrix is [(ns*na), ns] so the sum of each row is 1.0.\n",
        "# P(s'|s,a) = P[s * na + a][s']\n",
        "\n",
        "ns = 3\n",
        "na = 2\n",
        "P = np.array([\n",
        "\t    \t[0.6, 0.2, 0.2],\n",
        "        [0.5, 0.5, 0.0],\n",
        "\t\t\t\t[0.2, 0.5, 0.3],\n",
        "\t\t\t\t[0.3, 0.0, 0.7],\n",
        "\t\t\t\t[0.2, 0.6, 0.2],\n",
        "\t\t\t\t[0.1, 0.4, 0.5]\n",
        "\t\t\t\t])\n",
        "# The reward matrix is [ns, na]. R(s,a) = R[s,a]\n",
        "R = np.array([\n",
        "\t      [1.0, -1.0],\n",
        "\t\t\t\t[-0.5, 0.5],\n",
        "\t\t\t\t[2, 0.5],\n",
        "\t\t\t\t])\n",
        "\n",
        "class TabularMDP(object):\n",
        "\t\"\"\"\n",
        "\tA tabular MDP with gym-like interface\n",
        "\t\"\"\"\n",
        "\n",
        "\tdef __init__(self, ns, na, P, R):\n",
        "\n",
        "\t\tself.ns = ns\n",
        "\t\tself.na = na\n",
        "\n",
        "\t\t# transition: shape with [(ns*na), ns]\n",
        "\t\tself.P = P\n",
        "\n",
        "\t\t# reward: shape with [ns, na]\n",
        "\t\tself.r_mean = R\n",
        "\n",
        "\t\t# fixed initial state = 0\n",
        "\t\tself.s = 0\n",
        "\n",
        "\t\t# convert to matrix quantity\n",
        "\t\tself.R_matrix = np.zeros([ns * na])\n",
        "\t\tfor i in range(ns):\n",
        "\t\t\tfor j in range(na):\n",
        "\t\t\t\tself.R_matrix[i * na + j] = self.r_mean[i][j]\n",
        "\n",
        "\tdef reset(self):\n",
        "\t\tself.s = 0\n",
        "\t\treturn self.s\n",
        "\n",
        "\tdef step(self, action):\n",
        "\t\t# next state\n",
        "\t\tnext_s_prob = self.P[self.s * self.na + action]\n",
        "\t\tnext_s = np.random.choice(np.arange(self.ns), p=next_s_prob)\n",
        "\n",
        "\t\t# reward\n",
        "\t\tr = self.r_mean[self.s][action]\n",
        "\n",
        "\t\t# update\n",
        "\t\tself.s = next_s\n",
        "\n",
        "\t\treturn self.s, r, False, {}\n",
        "\n",
        "def get_PR(mdp):\n",
        "\t\"\"\"\n",
        "\tExtract transition matrix P and reward vector R from a mdp object\n",
        "\tArgs:\n",
        "\t\tmdp: the MDP object\n",
        "\tReturns:\n",
        "\t\tThe matrix P and vector R\n",
        "\t\"\"\"\n",
        "\tns, na = mdp.ns, mdp.na\n",
        "\tP = np.zeros([na, ns, ns])\n",
        "\tR = np.zeros([ns, na])\n",
        "\tfor i in range(na):\n",
        "\t\tfor j in range(ns):\n",
        "\t\t\tP[i, j] = mdp.P[j * na + i]\n",
        "\tR = np.reshape(mdp.R_matrix, [ns, na])\n",
        "\treturn P, R\n",
        "\n",
        "mdp = TabularMDP(ns, na, P, R)\n",
        "\n",
        "P, R = get_PR(mdp)\n",
        "P, R = torch.tensor(P).float(), torch.tensor(R).float()\n",
        "print(P, P.shape) # [action_dim, state_dim, state_dim]\n",
        "print(R, R.shape) # [state_dim, action_dim]"
      ],
      "execution_count": null,
      "outputs": [
        {
          "output_type": "stream",
          "name": "stdout",
          "text": [
            "tensor([[[0.6000, 0.2000, 0.2000],\n",
            "         [0.2000, 0.5000, 0.3000],\n",
            "         [0.2000, 0.6000, 0.2000]],\n",
            "\n",
            "        [[0.5000, 0.5000, 0.0000],\n",
            "         [0.3000, 0.0000, 0.7000],\n",
            "         [0.1000, 0.4000, 0.5000]]]) torch.Size([2, 3, 3])\n",
            "tensor([[ 1.0000, -1.0000],\n",
            "        [-0.5000,  0.5000],\n",
            "        [ 2.0000,  0.5000]]) torch.Size([3, 2])\n"
          ]
        }
      ]
    },
    {
      "cell_type": "code",
      "metadata": {
        "id": "sOIATL9bzXwG",
        "colab": {
          "base_uri": "https://localhost:8080/"
        },
        "outputId": "6523d80b-3410-48a6-87e8-0b051fd3b260"
      },
      "source": [
        "def policy_evaluation(P, R, discount, policy):\n",
        "\t\"\"\"\n",
        "\tPolicy evaluation solver. Compute the exact values for a target policy.\n",
        "\tArgs:\n",
        "\t\tP: transition matrix\n",
        "\t\tR: reward vector\n",
        "\t\tdiscount: discount factor\n",
        "\t\tpolicy: target policy\n",
        "\tReturns:\n",
        "\t\tExact value function (vf)\n",
        "\t\"\"\"\n",
        "\n",
        "  ### In this part, we recommend that you can directly use PyTorch to calculate\n",
        "  ### the analytical solution so you can further take gradient of it\n",
        "\t### Use any way you like to calculate it\n",
        "\t### torch.einsum is recommended: https://pytorch.org/docs/master/generated/torch.einsum.html#torch-einsum\n",
        "\n",
        "\t### TODO: Implement policy_evaluation based on the equation (1) and (2) derived in Step I###\n",
        "\tnstates = P.shape[-1]\n",
        "\tppi = torch.einsum('ast,sa->st', P, policy)\n",
        "\trpi = torch.einsum('sa,sa->s', R, policy)\n",
        "\tvf = torch.linalg.solve(torch.eye(nstates) - discount*ppi, rpi)\n",
        "\t### END TODO ###\n",
        "\treturn vf\n",
        "\n",
        "def policy_gradient(vf, policy):\n",
        "  ### You can refer to https://pytorch.org/docs/stable/autograd.html to see how you can take gradient manually\n",
        "\n",
        "\t### TODO: Implement policy gradient calculation ###\n",
        "  grad = torch.autograd.grad(vf, policy)[0]\n",
        "\t### END TODO ###\n",
        "  return grad\n",
        "\n",
        "### policy as matrix (|S|,|A|)\n",
        "params = torch.zeros([ns, na], requires_grad=True)\n",
        "gamma = 0.8\n",
        "policy = F.softmax(params, dim=-1) ## Guarantee the sum of each row is 1.0\n",
        "\n",
        "# get oralce gradient\n",
        "analytic_value = policy_evaluation(P, R, gamma, policy)\n",
        "analytic_pg = policy_gradient(analytic_value[0], policy)\n",
        "\n",
        "print('Analytical Value:', analytic_value)\n",
        "print('Analytical Policy Gradient over the first state:', analytic_pg[0])"
      ],
      "execution_count": null,
      "outputs": [
        {
          "output_type": "stream",
          "name": "stdout",
          "text": [
            "Analytical Value: tensor([1.3324, 1.8169, 2.9675], grad_fn=<LinalgSolveBackward0>)\n",
            "Analytical Policy Gradient over the first state: tensor([6.0592, 0.6543])\n"
          ]
        }
      ]
    },
    {
      "cell_type": "markdown",
      "source": [
        "### Step III: Analytical policy gradient ascent\n",
        "\n",
        "**You need to do the following things:**\n",
        "* Given the value function and policy gradient code above, conduct policy gradient ascent from uniform policy to increase the return. The necessary parameters like learning rate/gamma will be given. Then you can use the code to draw the plot between return and steps."
      ],
      "metadata": {
        "id": "PIzgRigCBwka"
      }
    },
    {
      "cell_type": "code",
      "source": [
        "lr = 0.1\n",
        "\n",
        "params = torch.zeros([ns, na], requires_grad=True)\n",
        "gamma = 0.8\n",
        "policy = F.softmax(params, dim=-1)\n",
        "\n",
        "step_num = 20\n",
        "reward = [] # for recording each step's reward\n",
        "analytic_value = policy_evaluation(P, R, gamma, policy)\n",
        "reward.append(analytic_value[0].item())# Initial state value\n",
        "\n",
        "for step in range(step_num):\n",
        "  ### TODO: Implement policy gradient ascent ###\n",
        "  analytic_value = policy_evaluation(P, R, gamma, policy)\n",
        "  analytic_pg = policy_gradient(analytic_value[0], policy)\n",
        "  params = params + lr * analytic_pg\n",
        "  ### END TODO ###\n",
        "  policy = F.softmax(params, dim=-1)\n",
        "  analytic_value = policy_evaluation(P, R, gamma, policy)\n",
        "  reward.append(analytic_value[0].item())\n",
        "plt.xlabel('Iterations')\n",
        "plt.ylabel('Reward')\n",
        "plt.title('Exact Policy Gradient Ascent')\n",
        "plt.plot(reward)\n",
        "plt.show()"
      ],
      "metadata": {
        "colab": {
          "base_uri": "https://localhost:8080/",
          "height": 295
        },
        "id": "Li2HHBI74gBR",
        "outputId": "1a961899-6459-468d-eeb3-82054567dd31"
      },
      "execution_count": null,
      "outputs": [
        {
          "output_type": "display_data",
          "data": {
            "image/png": "[encoded data removed]",
            "text/plain": [
              "<Figure size 432x288 with 1 Axes>"
            ]
          },
          "metadata": {
            "needs_background": "light"
          }
        }
      ]
    },
    {
      "cell_type": "markdown",
      "source": [
        "# Section II: Policy Gradient\n",
        "In the previous section, we show the objective function and how to analtically calculate the value. However, in model-free RL, we typically have not access to the reward and transition matrix so we need to take samples to estimate the policy gradient. Luckily, we have a theorem that:\n",
        "\n",
        "\n",
        "* For any differentiable policy $\\pi(a|s)$, for any of the policy objective functions $J=J_{1}, J_{a v R}$, or $\\frac{1}{1-\\gamma} J_{a v} V$, the policy gradient is:\n",
        "$$\n",
        "\\nabla_{\\theta} J(\\theta)=\\mathbb{E}_{s,a\\sim\\pi_{\\theta}}\\left[\\nabla_{\\theta} \\log \\pi_{\\theta}(a|s) Q^{\\pi_{\\theta}}(s, a)\\right] \\tag{3}\n",
        "$$\n",
        "\n",
        "And in our lecture, we prove the policy gradient theorem when the objective function is $\\frac{1}{1-\\gamma} J_{a v} V$.\n"
      ],
      "metadata": {
        "id": "EUHvAD6kx0PF"
      }
    },
    {
      "cell_type": "markdown",
      "metadata": {
        "id": "eq-r2vi_1SSx"
      },
      "source": [
        "## Q2: Estimated Policy Gradient in Tabular Markov Decision Process\n",
        "\n",
        "When the environment dynamic is unknown for us, we need to use samples to estimate it based on the policy gradient theorem. In this exercise, we will give you the rollout function for samplilng results.\n",
        "\n",
        "**You need to do the following things**:\n",
        "\n",
        "* **Step I**: Fully read the rollout function to understand how it works\n",
        "* **Step II**: Complete the **REINFORCE** function. Implement the function to estimate the policy gradient by REINFORCE algorithm. Then you can compare your estimated policy gradient with analytical policy gradient under different sample sizes.\n",
        "* **Step III**: Implement the function to conduct estimated policy gradient ascent to increase the performance from uniform policy. Draw the plot between the return and step."
      ]
    },
    {
      "cell_type": "markdown",
      "source": [
        "### Step I: Rollout function\n",
        "\n",
        "Here we offer you the rollout function, youo need to understand how it works."
      ],
      "metadata": {
        "id": "Nk-nHXCKE8Sx"
      }
    },
    {
      "cell_type": "code",
      "metadata": {
        "id": "8AV7eimGevHx"
      },
      "source": [
        "def generate_trajectories(mdp, mu, num_simulations, T):\n",
        "    \"\"\"\n",
        "    Generate trajectories from the MDP using policy mu\n",
        "    Args:\n",
        "    mdp: the mdp object\n",
        "    mu: the policy to be executed\n",
        "    num_simulations: num of trajectories\n",
        "    T: truncated horizon of the trajectory\n",
        "    Returns:\n",
        "    A list of trajectories\n",
        "    \"\"\"\n",
        "    trajs = []\n",
        "    na = mu.shape[1]\n",
        "    for i in range(num_simulations):\n",
        "        rsum = []\n",
        "        states = []\n",
        "        actions = []\n",
        "        s = mdp.reset()\n",
        "        for t in range(T):\n",
        "            a = np.random.choice(np.arange(na), p=mu[s])\n",
        "            s_next, r, _, _ = mdp.step(a)\n",
        "            rsum.append(r)\n",
        "            actions.append(a)\n",
        "            states.append(s)\n",
        "            s = s_next\n",
        "        states.append(s_next)\n",
        "        trajs.append({'states': states, 'actions': actions, 'rewards': rsum})\n",
        "    return trajs"
      ],
      "execution_count": null,
      "outputs": []
    },
    {
      "cell_type": "markdown",
      "source": [
        "### Step II: REINFORCE\n",
        "REINFORCE is one classical algorithm that use monte-carlo sample to estimate $Q^{\\pi_{\\theta}}(s,a)$. The monte-carlo estimate refers to the cumulative return start from $s_t,a_t$ at time step $t$:\n",
        " $G_t = \\sum_{k=0}^{k=\\infty}\\gamma^{k}R_{t+k} $.\n",
        "\n",
        "The REINFORCE algorithm procedures are shown as follows:\n",
        "<div align=center><img src=\"https://miro.medium.com/max/5520/1*NQkoA-eQOUXHqIln-WzMpw.png\" width=\"500px\" /></div>\n",
        "\n",
        "In your implementation, we recommend you not to conduct the policy gradient ascent at each step. At each time you can sample $n$ trajectories where each trajectory has $m$ states. You can calculate the $n\\times m$ terms of $G\\ln\\pi$ and calculate the average to become to final value. At last you can take the derivatives from this value w.r.t the policy by automatic differentiation.\n",
        "\n",
        "**Tips**: Note that this procedures here has some discrepancies with the policy gradient theorem presented before: it uses $\\gamma^{t} G \\nabla_{\\boldsymbol{\\theta}} \\ln \\pi\\left(A_{t} \\mid S_{t}, \\boldsymbol{\\theta}\\right)$ instead of $G \\nabla_{\\boldsymbol{\\theta}} \\ln \\pi\\left(A_{t} \\mid S_{t}, \\boldsymbol{\\theta}\\right)$. Only when $\\gamma=1$, these two formulation become the same. The former one is unbiased while the latter one is commonly used in practice. We recommend you to use this unbiased version at this tabular example while you can use whatever you want in the next Cartpole example."
      ],
      "metadata": {
        "id": "b9ZNRoF2FTEX"
      }
    },
    {
      "cell_type": "code",
      "metadata": {
        "id": "jXnbMUAEfEeu"
      },
      "source": [
        "def REINFORCE(pi, T, gamma, trajs):\n",
        "\t\"\"\"\n",
        "\tThis evaluation subroutine is based on REINFORCE.\n",
        "\tArgs:\n",
        "\t\tpi: target policy\n",
        "\t\tT: length of partial trajectories\n",
        "\t\tgamma: discount factor\n",
        "\t\ttrajs: list of trajectories\n",
        "\tReturns:\n",
        "\t\tpolicy gradient\n",
        "\t\"\"\"\n",
        "\tevaluations = 0\n",
        "\tnum_simulations = len(trajs)\n",
        "\tfor i in range(num_simulations):\n",
        "\t\ttraj = trajs[i]\n",
        "\t\tstates, actions, rewards = traj['states'], traj['actions'], traj['rewards']\n",
        "\t\tv_estimate = 0\n",
        "\t\tall_estimates = []\n",
        "\t\tfor s,a,r,s_next in zip(states[:-1][::-1], actions[::-1], rewards[::-1], states[1:][::-1]):\n",
        "\t\t\t### TODO: Implement calculation of monte-carlo estimate and G\\ln\\pi term ###\n",
        "\t\t\t### Reversely, iteratively calculate MC estimate\n",
        "\t\t\t### Then calculate policy loss based on REINFORCE algorithm\n",
        "\t\t\tv_estimate = r + gamma * v_estimate\n",
        "\t\t\tpolicy_loss = torch.log(pi[s,a] + 1e-8) * v_estimate\n",
        "\t\t\t### END\n",
        "\t\t\tall_estimates.append(policy_loss)\n",
        "\t\tall_estimates = all_estimates[::-1] # Reverse\n",
        "\t\tinit_estimate = 0.0\n",
        "\t\tfor step, estimate in enumerate(all_estimates):\n",
        "\t\t\t### TODO: Implement calculation discounted result over the whole trajectory\n",
        "\t\t\t### (the unbiased version mentioned in tips above)\n",
        "\t\t\tinit_estimate += gamma**step * estimate\n",
        "\t\t\t### END\n",
        "\t\tevaluations = evaluations + (init_estimate)/num_simulations\n",
        "\tpolicy_gradient = torch.autograd.grad(evaluations, pi, retain_graph=True)[0] # calculate the final policy gradient\n",
        "\treturn policy_gradient"
      ],
      "execution_count": null,
      "outputs": []
    },
    {
      "cell_type": "markdown",
      "source": [
        "### Step II: REINFORCE - comparison with analytical policy gradient\n",
        "\n",
        "In this part, we want to compare our estimated policy gradient and analytical policy gradient to verify its correctness.\n",
        "\n",
        "**You need to the following things**:\n",
        "\n",
        "* We will evaluate the policy gradient at uniform policy by analytical solution and sampled solution with different sample sizes.\n",
        "* Visualising the correlation&MSE distance between estimated policy gradient and analytical policy gradient and their relationship with sample size.\n",
        "\n",
        "**Tips**: Note that there also exists one discrepancy between the setting of analytical solution and estimated solution. The analytical solution is taken under infinite episode length while we can only use episodic setting to get estimation in practice. So we set $\\gamma=0.8$ and $T=40$ to make sure $\\gamma^{T}$ is small enough."
      ],
      "metadata": {
        "id": "j725qvuTOaMQ"
      }
    },
    {
      "cell_type": "code",
      "source": [
        "### Uniform policy andd analytical policy gradient\n",
        "params = torch.zeros([ns, na], requires_grad=True)\n",
        "policy = F.softmax(params, dim=-1)\n",
        "analytic_value = policy_evaluation(P, R, gamma, policy)\n",
        "analytic_pg = policy_gradient(analytic_value[0], policy)"
      ],
      "metadata": {
        "id": "tKOrNwKziqWV"
      },
      "execution_count": null,
      "outputs": []
    },
    {
      "cell_type": "code",
      "source": [
        "T = 40\n",
        "\n",
        "### Correlation function is offered here, Mean square error can be computed by F.mse_loss,\n",
        "### https://pytorch.org/docs/master/generated/torch.nn.functional.mse_loss.html#torch-nn-functional-mse-loss\n",
        "\n",
        "def corr(x, y):\n",
        "\t\"\"\"\n",
        "\tAngular accuracy measure between tensors\n",
        "\tbetween -1 and 1, the higher the better\n",
        "\n",
        "\tArgs:\n",
        "\t\ttwo tensors x and y\n",
        "\tReturns:\n",
        "\t\tAngular accuracy measure\n",
        "\t\"\"\"\n",
        "\tx = x.flatten()\n",
        "\ty = y.flatten()\n",
        "\tx -= np.mean(x)\n",
        "\ty -= np.mean(y)\n",
        "\treturn x.dot(y) / np.sqrt(x.dot(x) * y.dot(y))\n",
        "\n",
        "num_simulations_list = [2,4,8,16,32,64,256,512] #7 different sample size\n",
        "# conduct 5 policy gradient estimation under the same setting\n",
        "# Then take average to decrease the uncetainty brought by randomness\n",
        "num_repeated_sample = 5\n",
        "distance_list = []\n",
        "corr_list = []\n",
        "for num_simulations in num_simulations_list:\n",
        "  mse_distance = 0\n",
        "  corr_distance = 0\n",
        "  for _ in range(num_repeated_sample):\n",
        "\t\t### TODO: Implement calculation discounted result over the whole trajectory\n",
        "    trajs_all = generate_trajectories(mdp, policy.detach().numpy(), num_simulations, T)\n",
        "    gradient = REINFORCE(policy, T, gamma, trajs_all)\n",
        "    mse_distance += F.mse_loss(gradient, analytic_pg)/num_repeated_sample\n",
        "    corr_distance += corr(gradient.numpy(), analytic_pg.numpy())/num_repeated_sample\n",
        "\t\t### END\n",
        "  distance_list.append(mse_distance.item())\n",
        "  corr_list.append(corr_distance)"
      ],
      "metadata": {
        "id": "4e0turdFeg-l"
      },
      "execution_count": null,
      "outputs": []
    },
    {
      "cell_type": "code",
      "source": [
        "### Visualising\n",
        "plt.figure(figsize=(10,4))\n",
        "plt.subplot(1,2,1)\n",
        "plt.xlabel('Samples(Log)')\n",
        "plt.ylabel('Distance')\n",
        "plt.title('Correlation')\n",
        "plt.plot(np.log2(num_simulations_list), corr_list)\n",
        "\n",
        "plt.subplot(1,2,2)\n",
        "plt.plot(np.log2(num_simulations_list), distance_list)\n",
        "plt.xlabel('Samples(Log)')\n",
        "plt.ylabel('Distance')\n",
        "plt.title('MSE distance')\n",
        "plt.show()\n"
      ],
      "metadata": {
        "colab": {
          "base_uri": "https://localhost:8080/",
          "height": 295
        },
        "id": "yAc_5gppmBpw",
        "outputId": "0219f734-9663-4b47-dfea-deeaf03b2b5d"
      },
      "execution_count": null,
      "outputs": [
        {
          "output_type": "display_data",
          "data": {
            "image/png": "[encoded data removed]",
            "text/plain": [
              "<Figure size 720x288 with 2 Axes>"
            ]
          },
          "metadata": {
            "needs_background": "light"
          }
        }
      ]
    },
    {
      "cell_type": "markdown",
      "source": [
        "### Step III: Estimated policy gradient ascent\n",
        "\n",
        "In this part, **You need to the following things**:\n",
        "\n",
        "* Based on the previous gradient estimation code, you need to conduct policy gradient ascent from the uniform distribution. All necessary parameters are offered.\n",
        "* Visualising the reward-step plot.\n"
      ],
      "metadata": {
        "id": "Gd_UYjsNS7Wp"
      }
    },
    {
      "cell_type": "code",
      "source": [
        "step_num = 20\n",
        "num_simulations = 128\n",
        "params = torch.zeros([ns, na], requires_grad=True)\n",
        "reward = [] # for recording each step's reward\n",
        "policy = F.softmax(params, dim=-1)\n",
        "analytic_value = policy_evaluation(P, R, gamma, policy)\n",
        "reward.append(analytic_value[0].item())# Initial value\n",
        "for step in range(step_num):\n",
        "  ### TODO: Implement estimated policy gradient ascent\n",
        "  trajs_all = generate_trajectories(mdp, policy.detach().numpy(), num_simulations, T)\n",
        "  gradient = REINFORCE(policy, T, gamma, trajs_all)\n",
        "  params = params + lr * gradient\n",
        "  ### END\n",
        "  policy = F.softmax(params, dim=-1)\n",
        "  analytic_value = policy_evaluation(P, R, gamma, policy)\n",
        "  reward.append(analytic_value[0].item())"
      ],
      "metadata": {
        "id": "p-33LfH3nC5c"
      },
      "execution_count": null,
      "outputs": []
    },
    {
      "cell_type": "code",
      "source": [
        "plt.xlabel('Iterations')\n",
        "plt.ylabel('Reward')\n",
        "plt.title('Estimated Policy Gradient Ascent')\n",
        "plt.plot(reward)\n",
        "plt.show()"
      ],
      "metadata": {
        "colab": {
          "base_uri": "https://localhost:8080/",
          "height": 295
        },
        "id": "r0hXKnWann-V",
        "outputId": "61414845-1bcf-4da0-c801-ddd7de2cb606"
      },
      "execution_count": null,
      "outputs": [
        {
          "output_type": "display_data",
          "data": {
            "image/png": "[encoded data removed]",
            "text/plain": [
              "<Figure size 432x288 with 1 Axes>"
            ]
          },
          "metadata": {
            "needs_background": "light"
          }
        }
      ]
    },
    {
      "cell_type": "markdown",
      "metadata": {
        "id": "jaEXQk8zyJ_K"
      },
      "source": [
        "## Section III: Policy Gradient with Neural Network\n",
        "\n",
        "In this part, we begin to focus on a more complex environment: Cartpole and use neural network to conduct policy gradient estimation and policy graident ascent.\n",
        "\n",
        "**You need to do:**\n",
        "\n",
        "**Step I**: Understand how the Cartpole works and all related code including policy network/memory. Implment REINFORCE algorithm.\n",
        "\n",
        "**Step II**: Implement Actor-Critic algorithms and understand all realted code.\n",
        "\n",
        "**Step III**: Rendering the video of Cartpole for the initial policy and final learned policy."
      ]
    },
    {
      "cell_type": "markdown",
      "source": [
        "## Q3: Policy Gradient with Neural Network: Cartpole\n",
        "In this part, we will give you a gym environment called **Cartpole**. In this environment, a pole is attached by an un-actuated joint to a cart, which moves along a frictionless track. The system is controlled by applying a force of +1 or -1 to the cart. The pendulum starts upright, and the goal is to prevent it from falling over. A reward of +1 is provided for every timestep that the pole remains upright. The episode ends when the pole is more than 15 degrees from vertical, or the cart moves more than 2.4 units from the center.For more information of this environment, please refer to [Cartpole](https://gym.openai.com/envs/CartPole-v0/).\n",
        "### Step I: REINFORCE algorithm\n",
        "**You need to do:**\n",
        "* Understand all utility function such as rollout function/memory function and in-class function we offer you.\n",
        "* Complete the **Policy** class to creat a class for policy network.\n",
        "* Complete the **REINFORCE** class. Complete the **select_action** function to select action given one state. Complete the **train** function to implement REINFORCE algorithm using neural network based policy.\n",
        "* Visualing the reward/length-episode plot."
      ],
      "metadata": {
        "id": "bNUQi4YWzqCQ"
      }
    },
    {
      "cell_type": "code",
      "metadata": {
        "id": "oOs_3Un2wyoc"
      },
      "source": [
        "import gym\n",
        "import numpy as np\n",
        "\n",
        "import torch\n",
        "import torch.nn as nn\n",
        "import torch.nn.functional as F\n",
        "import torch.optim as optim\n",
        "from torch.distributions import Categorical\n",
        "import copy\n",
        "gamma = 0.99\n",
        "seed = 1\n",
        "\n",
        "env = gym.make('CartPole-v0') # action dim=2, state dim=4\n",
        "env.seed(seed)\n",
        "torch.manual_seed(seed)\n",
        "\n",
        "### We recommend a neural network with {[input_dim, 128], RELU(),[128, output_dim]}\n",
        "class Policy(nn.Module):\n",
        "  def __init__(self):\n",
        "    super(Policy, self).__init__()\n",
        "    ### TODO: Implment policy network\n",
        "    self.l1 = nn.Linear(4, 128)\n",
        "    self.l2 = nn.Linear(128, 2)\n",
        "    ### END\n",
        "\n",
        "  def forward(self, x):\n",
        "    ### TODO: Implment policy network\n",
        "    x = F.relu(self.l1(x))\n",
        "    action = self.l2(x)\n",
        "    ### END\n",
        "    return F.softmax(action, dim=1)\n",
        "\n",
        "# memory for storing the trajectory\n",
        "class memory():\n",
        "  def __init__(self):\n",
        "    self.state = []\n",
        "    self.action = []\n",
        "    self.reward = []\n",
        "  def reset(self):\n",
        "    self.state = []\n",
        "    self.action = []\n",
        "    self.reward = []\n",
        "  def insert(self,s,a,r):\n",
        "    self.state.append(s)\n",
        "    self.action.append(a)\n",
        "    self.reward.append(r)\n",
        "  def get_memory(self):\n",
        "    return np.stack(self.state, axis=0), np.stack(self.action, axis=0), np.stack(self.reward, axis=0)\n",
        "\n",
        "class REINFORCE():\n",
        "  def __init__(self, policy):\n",
        "    self.policy = policy\n",
        "    self.poptim = optim.Adam(self.policy.parameters(), lr=1e-3)\n",
        "\n",
        "  def select_action(self, state):\n",
        "    ## sample action given one state\n",
        "    ## For sampling you can refer to: https://pytorch.org/docs/master/distributions.html#categorical\n",
        "    state = torch.from_numpy(state).float().unsqueeze(0)\n",
        "    ### TODO: Implement function to sample action given the state/policy\n",
        "    probs = self.policy(state)\n",
        "    m = Categorical(probs)\n",
        "    action = m.sample()\n",
        "    ### END\n",
        "    return action.item()\n",
        "\n",
        "  def get_prob(self, state, action): ## get policy probability given state and action\n",
        "    return self.policy(state)[torch.arange(len(state)), action]\n",
        "\n",
        "  def train(self, m): # train policy\n",
        "    state, action, reward = m.get_memory()\n",
        "    state, action, reward = torch.tensor(state).float(), torch.tensor(action), torch.tensor(reward)\n",
        "    prob = self.get_prob(state, action)\n",
        "    value_all = []\n",
        "    value = 0\n",
        "    ### TODO: Implement function to calculate MC return for REINFORCE\n",
        "    ### You can calculate it following previous reverse implementation\n",
        "    ### Refer to https://pytorch.org/docs/master/generated/torch.flip.html?highlight=flip#torch.flip\n",
        "    for r in reward.flip(dims=[0]):\n",
        "      value = gamma * value + r\n",
        "      value_all.append(value)\n",
        "    ### END\n",
        "    value_all = value_all[::-1]\n",
        "    value_all = torch.tensor(value_all)\n",
        "    ### TODO: Implement function to calculate policy loss\n",
        "    policy_loss = -torch.sum(torch.log(prob+1e-8) * value_all)\n",
        "    ### END\n",
        "    self.poptim.zero_grad()\n",
        "    policy_loss.backward()\n",
        "    self.poptim.step()\n",
        "\n",
        "def run_reinforce():\n",
        "  policy = Policy()\n",
        "  agent = REINFORCE(policy)\n",
        "  agent_first = copy.deepcopy(agent)\n",
        "  m = memory()\n",
        "  all_reward = []\n",
        "  all_length = []\n",
        "  for i_episode in range(600):\n",
        "    state = env.reset()\n",
        "    m.reset()\n",
        "    for _ in range(2000):  # Don't infinite loop while learning\n",
        "      action = agent.select_action(state)\n",
        "      next_state, reward, done, _ = env.step(action)\n",
        "      m.insert(state, action, reward)\n",
        "      state = next_state\n",
        "      if done:\n",
        "          break\n",
        "    agent.train(m)\n",
        "    reward = np.array(m.reward)\n",
        "    discount_reward = np.sum(reward * np.array([gamma ** i for i in range(len(reward))])) # calculate discount reward\n",
        "    all_reward.append(discount_reward)\n",
        "    all_length.append(len(reward))\n",
        "\n",
        "    if i_episode % 20 == 0:\n",
        "      print('Episode ',i_episode,':',np.mean(all_reward[-20:]))\n",
        "\n",
        "  return agent_first, agent, all_reward, all_length\n"
      ],
      "execution_count": null,
      "outputs": []
    },
    {
      "cell_type": "code",
      "source": [
        "agent_first, agent, reward, length = run_reinforce()"
      ],
      "metadata": {
        "colab": {
          "base_uri": "https://localhost:8080/"
        },
        "id": "fDBcvPuIL3jD",
        "outputId": "83ff5e49-882b-439d-9f0b-7e47db85b72d"
      },
      "execution_count": null,
      "outputs": [
        {
          "output_type": "stream",
          "name": "stdout",
          "text": [
            "Episode  0 : 16.548623854991238\n",
            "Episode  20 : 19.64720150771737\n",
            "Episode  40 : 22.901770286341115\n",
            "Episode  60 : 38.869633487594925\n",
            "Episode  80 : 39.245864162890356\n",
            "Episode  100 : 43.7752275346901\n",
            "Episode  120 : 37.0178350279434\n",
            "Episode  140 : 46.381345319280264\n",
            "Episode  160 : 64.63896548705372\n",
            "Episode  180 : 69.68842811140162\n",
            "Episode  200 : 68.19112647128688\n",
            "Episode  220 : 79.44874303871048\n",
            "Episode  240 : 78.98453371526004\n",
            "Episode  260 : 78.07915923182102\n",
            "Episode  280 : 75.90803481614036\n",
            "Episode  300 : 83.43689252850167\n",
            "Episode  320 : 83.54293259805492\n",
            "Episode  340 : 84.4258546743072\n",
            "Episode  360 : 85.6301283933423\n",
            "Episode  380 : 85.18227307368923\n",
            "Episode  400 : 84.96582105140308\n",
            "Episode  420 : 86.39319438103769\n",
            "Episode  440 : 85.8105379552603\n",
            "Episode  460 : 86.60203251420376\n",
            "Episode  480 : 86.60203251420376\n",
            "Episode  500 : 84.7632434207177\n",
            "Episode  520 : 83.22664212986315\n",
            "Episode  540 : 86.36603050195774\n",
            "Episode  560 : 86.23519535572714\n",
            "Episode  580 : 81.86809137896185\n"
          ]
        }
      ]
    },
    {
      "cell_type": "code",
      "source": [
        "#Visualing the discount return and length\n",
        "\n",
        "plt.figure(figsize=(10,4))\n",
        "plt.subplot(1,2,1)\n",
        "plt.xlabel('Episodes')\n",
        "plt.ylabel('Discount return')\n",
        "plt.title('Return')\n",
        "plt.plot(reward)\n",
        "\n",
        "plt.subplot(1,2,2)\n",
        "plt.xlabel('Episodes')\n",
        "plt.ylabel('Length')\n",
        "plt.title('Length')\n",
        "plt.plot(length)\n",
        "plt.show()"
      ],
      "metadata": {
        "colab": {
          "base_uri": "https://localhost:8080/",
          "height": 295
        },
        "id": "p0R6BO7ZYJo6",
        "outputId": "1008abd3-b98d-4e5b-a7a7-ba8fa588fa8d"
      },
      "execution_count": null,
      "outputs": [
        {
          "output_type": "display_data",
          "data": {
            "image/png": "[encoded data removed]",
            "text/plain": [
              "<Figure size 720x288 with 2 Axes>"
            ]
          },
          "metadata": {
            "needs_background": "light"
          }
        }
      ]
    },
    {
      "cell_type": "markdown",
      "source": [
        "### Step II: Actor-critic\n",
        "\n",
        "Monte-Carlo estimated over Q function often brings in high-variance. In the part, we offer another solution to conduct RL: Actor-critic. In this framework, we use a parameterised critic to estimate the action-value function.\n",
        "$$\n",
        "Q_{w}(s, a) \\approx Q^{\\pi_{\\theta}}(s, a)\n",
        "$$\n",
        "\n",
        "Actor-critic algorithms maintain two sets of parameters:\n",
        "* Critic: Updates action-value function parameters w\n",
        "* Actor: Updates policy parameters $\\theta$, in direction\n",
        "suggested by critic\n",
        "\n",
        "Actor-critic algorithms follow an approximate policy gradient:\n",
        "$$\n",
        "\\nabla_{\\theta} J(\\theta) \\approx \\mathbb{E}_{\\pi_{\\theta}}\\left[\\nabla_{\\theta} \\log \\pi_{\\theta}(s, a) Q_{w}(s, a)\\right]\n",
        "\\tag{4}\n",
        "$$\n",
        "\n",
        "When learning the critic function, you can use the MSE loss betweenbetween $Q_w$ and Monte-Carlo estimate (same thing in REINFORCE) as the supervised objective.\n",
        "\n",
        "\n",
        "$$\n",
        "\\min_{w}\\mathbb{E}_{s_t,a_t\\sim\\pi_{\\theta}}\\left[\\left(Q^{w}(s_t, a_t)-G_t\\right)^{2}\\right]\n",
        "\\tag{5}\n",
        "$$\n",
        "\n",
        "\n",
        "**You need to do the following things:**\n",
        "* Complete the **QCritic** class to creat a class for policy network.\n",
        "* Complete the **Actor_Critic** class. Complete the **select_action** function to select action given one state. Complete the **train** function to implement Actor-critic algorithm using neural network based policy."
      ],
      "metadata": {
        "id": "flq5uKSy0BP1"
      }
    },
    {
      "cell_type": "code",
      "source": [
        "### We recommend a neural network with {[input_dim, 128], RELU(),[128, output_dim]}\n",
        "env.seed(1)\n",
        "torch.manual_seed(1)\n",
        "class QCritic(nn.Module):\n",
        "  def __init__(self):\n",
        "    super(QCritic, self).__init__()\n",
        "    ### TODO: Implment Qcritic network\n",
        "    self.l1 = nn.Linear(4+1, 128)\n",
        "    self.l2 = nn.Linear(128, 1)\n",
        "    ### End\n",
        "\n",
        "  def forward(self, x):\n",
        "    ### TODO: Implment Qcritic network\n",
        "    x = F.relu(self.l1(x))\n",
        "    action_scores = self.l2(x)\n",
        "    ### End\n",
        "    return action_scores\n",
        "\n",
        "class Actor_Critic():\n",
        "  def __init__(self, policy, critic):\n",
        "    self.policy = policy\n",
        "    self.critic = critic\n",
        "    self.poptim = optim.Adam(self.policy.parameters(), lr=1e-3)\n",
        "    self.coptim = optim.Adam(self.critic.parameters(), lr=1e-3)\n",
        "\n",
        "  def select_action(self, state):\n",
        "    state = torch.from_numpy(state).float().unsqueeze(0)\n",
        "    ### TODO: Implement function to sample action given the state/policy\n",
        "    probs = self.policy(state)\n",
        "    m = Categorical(probs)\n",
        "    action = m.sample()\n",
        "    ### END\n",
        "    return action.item()\n",
        "\n",
        "  def get_prob(self, state, action): ## get policy probability given state and action\n",
        "    return self.policy(state)[torch.arange(len(state)), action]\n",
        "\n",
        "  def get_value(self, state, action): ## get value given state and action\n",
        "    return self.critic(torch.cat([state, action[:, None]], dim=-1))\n",
        "\n",
        "  def train(self, m): # train policy and critic\n",
        "    state, action, reward = m.get_memory()\n",
        "    state, action, reward = torch.tensor(state).float(), torch.tensor(action), torch.tensor(reward).float()\n",
        "    prob = self.get_prob(state, action)\n",
        "    value_all = []\n",
        "    value = 0\n",
        "\n",
        "    # MC estimate\n",
        "    ### TODO: Implement MC estimate, same as before\n",
        "    for r in reward.flip(dims=[0]):\n",
        "      value = gamma * value + r\n",
        "      value_all.append(value)\n",
        "    ### END\n",
        "    value_all = value_all[::-1]\n",
        "    value_all = torch.tensor(value_all)\n",
        "\n",
        "    ### TODO: Implement critic loss by equation 5\n",
        "    value = self.get_value(state, action.float())\n",
        "    critic_loss = F.mse_loss(value.squeeze(dim=-1), value_all)\n",
        "    ### END\n",
        "    self.coptim.zero_grad()\n",
        "    critic_loss.backward()\n",
        "    self.coptim.step()\n",
        "\n",
        "    ### TODO: Implement policy loss by equation 4\n",
        "    ### Note that you can choose to use the updated critic to regenerate the value\n",
        "    ### Or directly use previous value\n",
        "    policy_loss = -torch.sum(torch.log(prob+1e-8) * value.detach())\n",
        "    ### END\n",
        "    self.poptim.zero_grad()\n",
        "    policy_loss.backward()\n",
        "    self.poptim.step()\n",
        "\n",
        "def run_actor_critic():\n",
        "  policy = Policy()\n",
        "  critic = QCritic()\n",
        "  agent = Actor_Critic(policy, critic)\n",
        "  m = memory()\n",
        "  all_reward = []\n",
        "  all_length = []\n",
        "  for i_episode in range(1000):\n",
        "    state = env.reset()\n",
        "    m.reset()\n",
        "    for _ in range(2000):  # Don't infinite loop while learning\n",
        "      action = agent.select_action(state)\n",
        "      next_state, reward, done, _ = env.step(action)\n",
        "      m.insert(state, action, reward)\n",
        "      state = next_state\n",
        "      if done:\n",
        "          break\n",
        "    agent.train(m)\n",
        "    reward = np.array(m.reward)\n",
        "    discount_reward = np.sum(reward * np.array([gamma ** i for i in range(len(reward))]))\n",
        "    all_reward.append(discount_reward)\n",
        "    all_length.append(len(reward))\n",
        "\n",
        "    if i_episode % 20 == 0:\n",
        "      print('Episode ',i_episode,':',np.mean(all_reward[-20:]))\n",
        "\n",
        "  return agent_first, agent, all_reward, all_length\n",
        "\n",
        "_, _, reward, length = run_actor_critic()"
      ],
      "metadata": {
        "colab": {
          "base_uri": "https://localhost:8080/"
        },
        "id": "x5Hzfz7IXA-l",
        "outputId": "cdc4fe9d-4e05-482f-eb53-9226bc1bdf4e"
      },
      "execution_count": null,
      "outputs": [
        {
          "output_type": "stream",
          "name": "stdout",
          "text": [
            "Episode  0 : 21.4321859192781\n",
            "Episode  20 : 24.386925794432713\n",
            "Episode  40 : 24.58672296169121\n",
            "Episode  60 : 24.57178631248886\n",
            "Episode  80 : 29.464738952427183\n",
            "Episode  100 : 32.9215854855862\n",
            "Episode  120 : 29.61026723150399\n",
            "Episode  140 : 26.682789770131553\n",
            "Episode  160 : 31.751466745420238\n",
            "Episode  180 : 41.24401054382125\n",
            "Episode  200 : 34.19475962134563\n",
            "Episode  220 : 33.94518347547923\n",
            "Episode  240 : 21.055444489744183\n",
            "Episode  260 : 19.649311580030783\n",
            "Episode  280 : 22.634786358496115\n",
            "Episode  300 : 31.41535320259694\n",
            "Episode  320 : 41.5209881162144\n",
            "Episode  340 : 38.793139589807296\n",
            "Episode  360 : 54.225999914875295\n",
            "Episode  380 : 59.37424861792918\n",
            "Episode  400 : 52.771629458327084\n",
            "Episode  420 : 58.98297165281415\n",
            "Episode  440 : 55.310574545615474\n",
            "Episode  460 : 56.75363612514195\n",
            "Episode  480 : 65.16602308788956\n",
            "Episode  500 : 68.04404512664817\n",
            "Episode  520 : 68.07714655310585\n",
            "Episode  540 : 71.27686711261615\n",
            "Episode  560 : 67.46828929262124\n",
            "Episode  580 : 68.32875894900666\n",
            "Episode  600 : 60.722035063170836\n",
            "Episode  620 : 60.497305903458496\n",
            "Episode  640 : 67.16413789754539\n",
            "Episode  660 : 66.95183613496579\n",
            "Episode  680 : 68.67303696967159\n",
            "Episode  700 : 56.17659037757996\n",
            "Episode  720 : 54.51474939063371\n",
            "Episode  740 : 61.22392033904915\n",
            "Episode  760 : 67.68166941855692\n",
            "Episode  780 : 70.17436002704262\n",
            "Episode  800 : 73.69964470473838\n",
            "Episode  820 : 77.86000575896747\n",
            "Episode  840 : 81.0491367705928\n",
            "Episode  860 : 84.6502980334241\n",
            "Episode  880 : 83.24114896331646\n",
            "Episode  900 : 86.26043075284967\n",
            "Episode  920 : 81.40456327076286\n",
            "Episode  940 : 82.42015254170663\n",
            "Episode  960 : 81.01907908244881\n",
            "Episode  980 : 81.41214895919674\n"
          ]
        }
      ]
    },
    {
      "cell_type": "code",
      "source": [
        "plt.figure(figsize=(10,4))\n",
        "plt.subplot(1,2,1)\n",
        "plt.xlabel('Episodes')\n",
        "plt.ylabel('Discount return')\n",
        "plt.title('Return')\n",
        "plt.plot(reward)\n",
        "\n",
        "plt.subplot(1,2,2)\n",
        "plt.xlabel('Episodes')\n",
        "plt.ylabel('Length')\n",
        "plt.title('Length')\n",
        "plt.plot(length)\n",
        "plt.show()"
      ],
      "metadata": {
        "colab": {
          "base_uri": "https://localhost:8080/",
          "height": 295
        },
        "id": "G2nmkIzCeY4S",
        "outputId": "a468c211-f727-461e-c7fe-797906b4ae12"
      },
      "execution_count": null,
      "outputs": [
        {
          "output_type": "display_data",
          "data": {
            "image/png": "[encoded data removed]",
            "text/plain": [
              "<Figure size 720x288 with 2 Axes>"
            ]
          },
          "metadata": {
            "needs_background": "light"
          }
        }
      ]
    },
    {
      "cell_type": "markdown",
      "source": [
        "### Step III: Rendering environment\n",
        "In this part, you just need to collect previous learned policy and render the Cartpole environment with your initial policy and final policy."
      ],
      "metadata": {
        "id": "GvQYzwjy0PfR"
      }
    },
    {
      "cell_type": "code",
      "source": [
        "!pip install gym pyvirtualdisplay > /dev/null 2>&1\n",
        "!apt-get install -y xvfb python-opengl ffmpeg > /dev/null 2>&1\n",
        "!apt-get update > /dev/null 2>&1"
      ],
      "metadata": {
        "id": "8NL_Ku0VXMve"
      },
      "execution_count": null,
      "outputs": []
    },
    {
      "cell_type": "code",
      "source": [
        "import gym\n",
        "from gym.wrappers.record_video import RecordVideo\n",
        "import glob\n",
        "import io\n",
        "import base64\n",
        "from IPython.display import HTML\n",
        "from pyvirtualdisplay import Display\n",
        "from IPython import display as ipythondisplay\n",
        "\n",
        "display = Display(visible=0, size=(1400, 900))\n",
        "display.start()\n",
        "\n",
        "\"\"\"\n",
        "Utility functions to enable video recording of gym environment\n",
        "and displaying it.\n",
        "To enable video, just do \"env = wrap_env(env)\"\"\n",
        "\"\"\"\n",
        "\n",
        "def show_video():\n",
        "  mp4list = glob.glob('video/*.mp4')\n",
        "  if len(mp4list) > 0:\n",
        "    mp4 = mp4list[0]\n",
        "    video = io.open(mp4, 'r+b').read()\n",
        "    encoded = base64.b64encode(video)\n",
        "    ipythondisplay.display(HTML(data='''<video alt=\"test\" autoplay\n",
        "                loop controls style=\"height: 400px;\">\n",
        "                <source src=\"data:video/mp4;base64,{0}\" type=\"video/mp4\" />\n",
        "             </video>'''.format(encoded.decode('ascii'))))\n",
        "  else:\n",
        "    print(\"Could not find video\")\n",
        "def wrap_env(env):\n",
        "  env = Monitor(env, './video', force=True)\n",
        "  return env"
      ],
      "metadata": {
        "id": "awTOEejZXU_U"
      },
      "execution_count": null,
      "outputs": []
    },
    {
      "cell_type": "code",
      "source": [
        "def show_policy(policy):\n",
        "  env = wrap_env(gym.make('CartPole-v0'))\n",
        "  state = env.reset()\n",
        "  while True:\n",
        "    env.render()\n",
        "    #your agent goes here\n",
        "    action = policy.select_action(state)\n",
        "    state, reward, done, info = env.step(action)\n",
        "    if done:\n",
        "      break;\n",
        "  env.close()\n",
        "  show_video()"
      ],
      "metadata": {
        "id": "-UgXHefsXXm7"
      },
      "execution_count": null,
      "outputs": []
    },
    {
      "cell_type": "code",
      "source": [
        "show_policy(agent_first) ### render with the initial policy"
      ],
      "metadata": {
        "colab": {
          "base_uri": "https://localhost:8080/",
          "height": 420
        },
        "id": "dHJFbJWZYY0a",
        "outputId": "6cffff28-aaa1-4a55-f36c-e5c264224997"
      },
      "execution_count": null,
      "outputs": [
        {
          "output_type": "display_data",
          "data": {
            "text/html": [
              "<video alt=\"test\" autoplay \n",
              "                loop controls style=\"height: 400px;\">\n",
              "                <source src=\"data:video/mp4;base64,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\" type=\"video/mp4\" />\n",
              "             </video>"
            ],
            "text/plain": [
              "<IPython.core.display.HTML object>"
            ]
          },
          "metadata": {}
        }
      ]
    },
    {
      "cell_type": "code",
      "source": [
        "show_policy(agent) ### render with the final policy"
      ],
      "metadata": {
        "colab": {
          "base_uri": "https://localhost:8080/",
          "height": 171
        },
        "id": "YAJMUk_RYlHg",
        "outputId": "b9bfef40-1de5-4947-8d77-641105622475"
      },
      "execution_count": null,
      "outputs": [
        {
          "output_type": "error",
          "ename": "NameError",
          "evalue": "ignored",
          "traceback": [
            "\u001b[0;31m---------------------------------------------------------------------------\u001b[0m",
            "\u001b[0;31mNameError\u001b[0m                                 Traceback (most recent call last)",
            "\u001b[0;32m<ipython-input-1-a401789aa22e>\u001b[0m in \u001b[0;36m<module>\u001b[0;34m\u001b[0m\n\u001b[0;32m----> 1\u001b[0;31m \u001b[0mshow_policy\u001b[0m\u001b[0;34m(\u001b[0m\u001b[0magent\u001b[0m\u001b[0;34m)\u001b[0m \u001b[0;31m### render with the final policy\u001b[0m\u001b[0;34m\u001b[0m\u001b[0;34m\u001b[0m\u001b[0m\n\u001b[0m",
            "\u001b[0;31mNameError\u001b[0m: name 'show_policy' is not defined"
          ]
        }
      ]
    },
    {
      "cell_type": "markdown",
      "source": [
        "# Reference\n",
        "The illustration of policy gradient and actor-critic refers to:\n",
        "* https://www.davidsilver.uk/wp-content/uploads/2020/03/pg.pdf\n",
        "\n",
        "The analytical policy gradient code refers to:\n",
        "* https://github.com/robintyh1/neurips2021-meta-gradient-offpolicy-evaluation\n",
        "\n",
        "The REINFORCE algorithm refers to:\n",
        "* http://incompleteideas.net/book/RLbook2020.pdf\n",
        "\n",
        "The visualisation code of cartpole refers to:\n",
        "* https://colab.research.google.com/github/jeffheaton/t81_558_deep_learning/blob/master/t81_558_class_12_01_ai_gym.ipynb"
      ],
      "metadata": {
        "id": "vi5G-bLVyFgO"
      }
    }
  ]
}