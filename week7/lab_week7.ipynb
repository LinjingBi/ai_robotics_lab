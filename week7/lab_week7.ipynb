{
  "cells": [
    {
      "cell_type": "markdown",
      "metadata": {
        "id": "view-in-github",
        "colab_type": "text"
      },
      "source": [
        "<a href=\"https://colab.research.google.com/github/LinjingBi/ai_robotics_lab/blob/main/week7/lab_week7.ipynb\" target=\"_parent\"><img src=\"https://colab.research.google.com/assets/colab-badge.svg\" alt=\"Open In Colab\"/></a>"
      ]
    },
    {
      "cell_type": "markdown",
      "id": "77260b4d",
      "metadata": {
        "id": "77260b4d"
      },
      "source": [
        "# Neural Network workshop\n",
        "\n",
        "This notebook covers:\n",
        "- Neural Network basics\n",
        "- Implementing a Feedforward Neural Network\n",
        "- Using CNNs for image classification\n",
        "- Visualizing training with TensorBoard 🚀"
      ]
    },
    {
      "cell_type": "markdown",
      "id": "437bb52f",
      "metadata": {
        "id": "437bb52f"
      },
      "source": [
        "## Installing and importing dependencies (5 min)"
      ]
    },
    {
      "cell_type": "code",
      "execution_count": 1,
      "id": "b834324e",
      "metadata": {
        "colab": {
          "base_uri": "https://localhost:8080/"
        },
        "id": "b834324e",
        "outputId": "5947fa22-42cf-458c-f978-a4da23199521"
      },
      "outputs": [
        {
          "output_type": "stream",
          "name": "stdout",
          "text": [
            "Requirement already satisfied: numpy in /usr/local/lib/python3.11/dist-packages (1.26.4)\n",
            "Requirement already satisfied: tensorflow in /usr/local/lib/python3.11/dist-packages (2.18.0)\n",
            "Requirement already satisfied: matplotlib in /usr/local/lib/python3.11/dist-packages (3.10.0)\n",
            "Requirement already satisfied: seaborn in /usr/local/lib/python3.11/dist-packages (0.13.2)\n",
            "Requirement already satisfied: tensorboard in /usr/local/lib/python3.11/dist-packages (2.18.0)\n",
            "Requirement already satisfied: absl-py>=1.0.0 in /usr/local/lib/python3.11/dist-packages (from tensorflow) (1.4.0)\n",
            "Requirement already satisfied: astunparse>=1.6.0 in /usr/local/lib/python3.11/dist-packages (from tensorflow) (1.6.3)\n",
            "Requirement already satisfied: flatbuffers>=24.3.25 in /usr/local/lib/python3.11/dist-packages (from tensorflow) (25.2.10)\n",
            "Requirement already satisfied: gast!=0.5.0,!=0.5.1,!=0.5.2,>=0.2.1 in /usr/local/lib/python3.11/dist-packages (from tensorflow) (0.6.0)\n",
            "Requirement already satisfied: google-pasta>=0.1.1 in /usr/local/lib/python3.11/dist-packages (from tensorflow) (0.2.0)\n",
            "Requirement already satisfied: libclang>=13.0.0 in /usr/local/lib/python3.11/dist-packages (from tensorflow) (18.1.1)\n",
            "Requirement already satisfied: opt-einsum>=2.3.2 in /usr/local/lib/python3.11/dist-packages (from tensorflow) (3.4.0)\n",
            "Requirement already satisfied: packaging in /usr/local/lib/python3.11/dist-packages (from tensorflow) (24.2)\n",
            "Requirement already satisfied: protobuf!=4.21.0,!=4.21.1,!=4.21.2,!=4.21.3,!=4.21.4,!=4.21.5,<6.0.0dev,>=3.20.3 in /usr/local/lib/python3.11/dist-packages (from tensorflow) (4.25.6)\n",
            "Requirement already satisfied: requests<3,>=2.21.0 in /usr/local/lib/python3.11/dist-packages (from tensorflow) (2.32.3)\n",
            "Requirement already satisfied: setuptools in /usr/local/lib/python3.11/dist-packages (from tensorflow) (75.1.0)\n",
            "Requirement already satisfied: six>=1.12.0 in /usr/local/lib/python3.11/dist-packages (from tensorflow) (1.17.0)\n",
            "Requirement already satisfied: termcolor>=1.1.0 in /usr/local/lib/python3.11/dist-packages (from tensorflow) (2.5.0)\n",
            "Requirement already satisfied: typing-extensions>=3.6.6 in /usr/local/lib/python3.11/dist-packages (from tensorflow) (4.12.2)\n",
            "Requirement already satisfied: wrapt>=1.11.0 in /usr/local/lib/python3.11/dist-packages (from tensorflow) (1.17.2)\n",
            "Requirement already satisfied: grpcio<2.0,>=1.24.3 in /usr/local/lib/python3.11/dist-packages (from tensorflow) (1.70.0)\n",
            "Requirement already satisfied: keras>=3.5.0 in /usr/local/lib/python3.11/dist-packages (from tensorflow) (3.8.0)\n",
            "Requirement already satisfied: h5py>=3.11.0 in /usr/local/lib/python3.11/dist-packages (from tensorflow) (3.12.1)\n",
            "Requirement already satisfied: ml-dtypes<0.5.0,>=0.4.0 in /usr/local/lib/python3.11/dist-packages (from tensorflow) (0.4.1)\n",
            "Requirement already satisfied: tensorflow-io-gcs-filesystem>=0.23.1 in /usr/local/lib/python3.11/dist-packages (from tensorflow) (0.37.1)\n",
            "Requirement already satisfied: contourpy>=1.0.1 in /usr/local/lib/python3.11/dist-packages (from matplotlib) (1.3.1)\n",
            "Requirement already satisfied: cycler>=0.10 in /usr/local/lib/python3.11/dist-packages (from matplotlib) (0.12.1)\n",
            "Requirement already satisfied: fonttools>=4.22.0 in /usr/local/lib/python3.11/dist-packages (from matplotlib) (4.56.0)\n",
            "Requirement already satisfied: kiwisolver>=1.3.1 in /usr/local/lib/python3.11/dist-packages (from matplotlib) (1.4.8)\n",
            "Requirement already satisfied: pillow>=8 in /usr/local/lib/python3.11/dist-packages (from matplotlib) (11.1.0)\n",
            "Requirement already satisfied: pyparsing>=2.3.1 in /usr/local/lib/python3.11/dist-packages (from matplotlib) (3.2.1)\n",
            "Requirement already satisfied: python-dateutil>=2.7 in /usr/local/lib/python3.11/dist-packages (from matplotlib) (2.8.2)\n",
            "Requirement already satisfied: pandas>=1.2 in /usr/local/lib/python3.11/dist-packages (from seaborn) (2.2.2)\n",
            "Requirement already satisfied: markdown>=2.6.8 in /usr/local/lib/python3.11/dist-packages (from tensorboard) (3.7)\n",
            "Requirement already satisfied: tensorboard-data-server<0.8.0,>=0.7.0 in /usr/local/lib/python3.11/dist-packages (from tensorboard) (0.7.2)\n",
            "Requirement already satisfied: werkzeug>=1.0.1 in /usr/local/lib/python3.11/dist-packages (from tensorboard) (3.1.3)\n",
            "Requirement already satisfied: wheel<1.0,>=0.23.0 in /usr/local/lib/python3.11/dist-packages (from astunparse>=1.6.0->tensorflow) (0.45.1)\n",
            "Requirement already satisfied: rich in /usr/local/lib/python3.11/dist-packages (from keras>=3.5.0->tensorflow) (13.9.4)\n",
            "Requirement already satisfied: namex in /usr/local/lib/python3.11/dist-packages (from keras>=3.5.0->tensorflow) (0.0.8)\n",
            "Requirement already satisfied: optree in /usr/local/lib/python3.11/dist-packages (from keras>=3.5.0->tensorflow) (0.14.0)\n",
            "Requirement already satisfied: pytz>=2020.1 in /usr/local/lib/python3.11/dist-packages (from pandas>=1.2->seaborn) (2025.1)\n",
            "Requirement already satisfied: tzdata>=2022.7 in /usr/local/lib/python3.11/dist-packages (from pandas>=1.2->seaborn) (2025.1)\n",
            "Requirement already satisfied: charset-normalizer<4,>=2 in /usr/local/lib/python3.11/dist-packages (from requests<3,>=2.21.0->tensorflow) (3.4.1)\n",
            "Requirement already satisfied: idna<4,>=2.5 in /usr/local/lib/python3.11/dist-packages (from requests<3,>=2.21.0->tensorflow) (3.10)\n",
            "Requirement already satisfied: urllib3<3,>=1.21.1 in /usr/local/lib/python3.11/dist-packages (from requests<3,>=2.21.0->tensorflow) (2.3.0)\n",
            "Requirement already satisfied: certifi>=2017.4.17 in /usr/local/lib/python3.11/dist-packages (from requests<3,>=2.21.0->tensorflow) (2025.1.31)\n",
            "Requirement already satisfied: MarkupSafe>=2.1.1 in /usr/local/lib/python3.11/dist-packages (from werkzeug>=1.0.1->tensorboard) (3.0.2)\n",
            "Requirement already satisfied: markdown-it-py>=2.2.0 in /usr/local/lib/python3.11/dist-packages (from rich->keras>=3.5.0->tensorflow) (3.0.0)\n",
            "Requirement already satisfied: pygments<3.0.0,>=2.13.0 in /usr/local/lib/python3.11/dist-packages (from rich->keras>=3.5.0->tensorflow) (2.18.0)\n",
            "Requirement already satisfied: mdurl~=0.1 in /usr/local/lib/python3.11/dist-packages (from markdown-it-py>=2.2.0->rich->keras>=3.5.0->tensorflow) (0.1.2)\n"
          ]
        }
      ],
      "source": [
        "\n",
        "# Install dependencies (if not already installed)\n",
        "!pip install numpy tensorflow matplotlib seaborn tensorboard\n",
        "\n",
        "# Import necessary libraries\n",
        "import numpy as np\n",
        "import tensorflow as tf\n",
        "from tensorflow import keras\n",
        "import matplotlib.pyplot as plt\n",
        "import seaborn as sns\n",
        "import datetime  # For timestamped logs\n"
      ]
    },
    {
      "cell_type": "markdown",
      "id": "eb17812c",
      "metadata": {
        "id": "eb17812c"
      },
      "source": [
        "## Exploring and Visualizing the MNIST Dataset (15 min)"
      ]
    },
    {
      "cell_type": "code",
      "execution_count": 2,
      "id": "e62ff903",
      "metadata": {
        "colab": {
          "base_uri": "https://localhost:8080/",
          "height": 555
        },
        "id": "e62ff903",
        "outputId": "49c31504-cdf5-4760-f53f-30155c563ea2"
      },
      "outputs": [
        {
          "output_type": "stream",
          "name": "stdout",
          "text": [
            "Downloading data from https://storage.googleapis.com/tensorflow/tf-keras-datasets/mnist.npz\n",
            "\u001b[1m11490434/11490434\u001b[0m \u001b[32m━━━━━━━━━━━━━━━━━━━━\u001b[0m\u001b[37m\u001b[0m \u001b[1m2s\u001b[0m 0us/step\n"
          ]
        },
        {
          "output_type": "display_data",
          "data": {
            "text/plain": [
              "<Figure size 1000x600 with 15 Axes>"
            ],
            "image/png": "[encoded data removed]"
          },
          "metadata": {}
        }
      ],
      "source": [
        "\n",
        "# Load dataset (MNIST - handwritten digits)\n",
        "from tensorflow.keras.datasets import mnist\n",
        "\n",
        "# Download and split dataset into training and testing sets\n",
        "(x_train, y_train), (x_test, y_test) = mnist.load_data()\n",
        "\n",
        "# Normalize pixel values (scale between 0 and 1)\n",
        "x_train, x_test = x_train / 255.0, x_test / 255.0\n",
        "\n",
        "# Display multiple sample images\n",
        "fig, axes = plt.subplots(3, 5, figsize=(10, 6))\n",
        "for i, ax in enumerate(axes.flat):\n",
        "    ax.imshow(x_train[i], cmap='gray')\n",
        "    ax.set_title(f\"Label: {y_train[i]}\")\n",
        "    ax.axis('off')\n",
        "plt.show()\n"
      ]
    },
    {
      "cell_type": "markdown",
      "id": "39f43837",
      "metadata": {
        "id": "39f43837"
      },
      "source": [
        "## ✨ Exercise 1: Explore the Dataset\n",
        "Try the following:\n",
        "1. Display 10 random images from the dataset with label 1\n"
      ]
    },
    {
      "cell_type": "code",
      "execution_count": 27,
      "id": "fde52c8c",
      "metadata": {
        "colab": {
          "base_uri": "https://localhost:8080/",
          "height": 79
        },
        "id": "fde52c8c",
        "outputId": "e4b4c464-d8df-431e-dbfa-e5f55e54aaa8"
      },
      "outputs": [
        {
          "output_type": "display_data",
          "data": {
            "text/plain": [
              "<Figure size 640x480 with 10 Axes>"
            ],
            "image/png": "[encoded data removed]"
          },
          "metadata": {}
        }
      ],
      "source": [
        "# Hint: select indices in the x_train dataset corresponding to y_train labels of 1 and display the images using matplotlib\n",
        "\n",
        "import random\n",
        "\n",
        "fig, axes = plt.subplots(1, 10)\n",
        "x_selected = x_train[y_train == 1]\n",
        "\n",
        "\n",
        "for i, ax in enumerate(axes.flat):\n",
        "  ax.imshow(x_selected[i], cmap='gray')\n",
        "  ax.axis('off')\n",
        "\n",
        "plt.show()"
      ]
    },
    {
      "cell_type": "markdown",
      "id": "8bf940c7",
      "metadata": {
        "id": "8bf940c7"
      },
      "source": [
        "2. Check the distribution of digits in the dataset using a histogram."
      ]
    },
    {
      "cell_type": "code",
      "execution_count": 33,
      "id": "5825c7ad",
      "metadata": {
        "colab": {
          "base_uri": "https://localhost:8080/",
          "height": 486
        },
        "id": "5825c7ad",
        "outputId": "029fc371-266b-4fa9-9f0a-02451d8a6a10"
      },
      "outputs": [
        {
          "output_type": "display_data",
          "data": {
            "text/plain": [
              "<Figure size 640x480 with 1 Axes>"
            ],
            "image/png": "[encoded data removed]"
          },
          "metadata": {}
        }
      ],
      "source": [
        "# Hint: use the y_train dataset to display the distribution of labels\n",
        "y_train.shape\n",
        "\n",
        "fig, axs = plt.subplots(1, sharey=True, tight_layout=True)\n",
        "\n",
        "# We can set the number of bins with the *bins* keyword argument.\n",
        "axs.hist(y_train, bins=range(1, 11))\n",
        "# axs[1].hist(dist2, bins=n_bins)\n",
        "\n",
        "plt.show()"
      ]
    },
    {
      "cell_type": "markdown",
      "id": "63029165",
      "metadata": {
        "id": "63029165"
      },
      "source": [
        "##  Building a Feedforward Neural Network (45 min)"
      ]
    },
    {
      "cell_type": "code",
      "execution_count": 34,
      "id": "110998b8",
      "metadata": {
        "colab": {
          "base_uri": "https://localhost:8080/"
        },
        "id": "110998b8",
        "outputId": "2d5d31c8-7ce0-4a34-8bad-d12c57ef38be"
      },
      "outputs": [
        {
          "output_type": "stream",
          "name": "stderr",
          "text": [
            "/usr/local/lib/python3.11/dist-packages/keras/src/layers/reshaping/flatten.py:37: UserWarning: Do not pass an `input_shape`/`input_dim` argument to a layer. When using Sequential models, prefer using an `Input(shape)` object as the first layer in the model instead.\n",
            "  super().__init__(**kwargs)\n"
          ]
        },
        {
          "output_type": "stream",
          "name": "stdout",
          "text": [
            "Epoch 1/5\n",
            "\u001b[1m1875/1875\u001b[0m \u001b[32m━━━━━━━━━━━━━━━━━━━━\u001b[0m\u001b[37m\u001b[0m \u001b[1m10s\u001b[0m 5ms/step - accuracy: 0.8795 - loss: 0.4270 - val_accuracy: 0.9590 - val_loss: 0.1372\n",
            "Epoch 2/5\n",
            "\u001b[1m1875/1875\u001b[0m \u001b[32m━━━━━━━━━━━━━━━━━━━━\u001b[0m\u001b[37m\u001b[0m \u001b[1m7s\u001b[0m 4ms/step - accuracy: 0.9657 - loss: 0.1156 - val_accuracy: 0.9722 - val_loss: 0.0912\n",
            "Epoch 3/5\n",
            "\u001b[1m1875/1875\u001b[0m \u001b[32m━━━━━━━━━━━━━━━━━━━━\u001b[0m\u001b[37m\u001b[0m \u001b[1m9s\u001b[0m 5ms/step - accuracy: 0.9779 - loss: 0.0757 - val_accuracy: 0.9744 - val_loss: 0.0823\n",
            "Epoch 4/5\n",
            "\u001b[1m1875/1875\u001b[0m \u001b[32m━━━━━━━━━━━━━━━━━━━━\u001b[0m\u001b[37m\u001b[0m \u001b[1m8s\u001b[0m 4ms/step - accuracy: 0.9830 - loss: 0.0558 - val_accuracy: 0.9765 - val_loss: 0.0770\n",
            "Epoch 5/5\n",
            "\u001b[1m1875/1875\u001b[0m \u001b[32m━━━━━━━━━━━━━━━━━━━━\u001b[0m\u001b[37m\u001b[0m \u001b[1m10s\u001b[0m 4ms/step - accuracy: 0.9871 - loss: 0.0438 - val_accuracy: 0.9755 - val_loss: 0.0729\n"
          ]
        },
        {
          "output_type": "execute_result",
          "data": {
            "text/plain": [
              "<keras.src.callbacks.history.History at 0x7d1549026950>"
            ]
          },
          "metadata": {},
          "execution_count": 34
        }
      ],
      "source": [
        "\n",
        "# Define a feedforward neural network\n",
        "model = keras.Sequential([\n",
        "    keras.layers.Flatten(input_shape=(28, 28)),  # Input layer\n",
        "    keras.layers.Dense(128, activation='relu'),  # Hidden layer\n",
        "    keras.layers.Dense(10, activation='softmax')  # Output layer\n",
        "])\n",
        "\n",
        "# Compile model\n",
        "model.compile(optimizer='adam', loss='sparse_categorical_crossentropy', metrics=['accuracy'])\n",
        "\n",
        "# Train model with TensorBoard logging\n",
        "model.fit(x_train, y_train, epochs=5, validation_data=(x_test, y_test))\n"
      ]
    },
    {
      "cell_type": "markdown",
      "id": "ca3fe0ec",
      "metadata": {
        "id": "ca3fe0ec"
      },
      "source": [
        "## ✨ Exercise 2: Modify the Neural Network\n",
        "1. Change the number of hidden layers and observe how accuracy changes.\n",
        "\n"
      ]
    },
    {
      "cell_type": "code",
      "execution_count": 40,
      "id": "94ffc434",
      "metadata": {
        "colab": {
          "base_uri": "https://localhost:8080/"
        },
        "id": "94ffc434",
        "outputId": "d3863f0d-1b72-441c-d3f5-b616397289dc"
      },
      "outputs": [
        {
          "output_type": "stream",
          "name": "stdout",
          "text": [
            "Epoch 1/20\n",
            "\u001b[1m1875/1875\u001b[0m \u001b[32m━━━━━━━━━━━━━━━━━━━━\u001b[0m\u001b[37m\u001b[0m \u001b[1m12s\u001b[0m 6ms/step - accuracy: 0.8897 - loss: 0.3851 - val_accuracy: 0.9588 - val_loss: 0.1286\n",
            "Epoch 2/20\n",
            "\u001b[1m1875/1875\u001b[0m \u001b[32m━━━━━━━━━━━━━━━━━━━━\u001b[0m\u001b[37m\u001b[0m \u001b[1m20s\u001b[0m 6ms/step - accuracy: 0.9697 - loss: 0.0989 - val_accuracy: 0.9736 - val_loss: 0.0842\n",
            "Epoch 3/20\n",
            "\u001b[1m1875/1875\u001b[0m \u001b[32m━━━━━━━━━━━━━━━━━━━━\u001b[0m\u001b[37m\u001b[0m \u001b[1m10s\u001b[0m 5ms/step - accuracy: 0.9799 - loss: 0.0648 - val_accuracy: 0.9781 - val_loss: 0.0759\n",
            "Epoch 4/20\n",
            "\u001b[1m1875/1875\u001b[0m \u001b[32m━━━━━━━━━━━━━━━━━━━━\u001b[0m\u001b[37m\u001b[0m \u001b[1m10s\u001b[0m 5ms/step - accuracy: 0.9871 - loss: 0.0419 - val_accuracy: 0.9741 - val_loss: 0.0804\n",
            "Epoch 5/20\n",
            "\u001b[1m1875/1875\u001b[0m \u001b[32m━━━━━━━━━━━━━━━━━━━━\u001b[0m\u001b[37m\u001b[0m \u001b[1m22s\u001b[0m 6ms/step - accuracy: 0.9904 - loss: 0.0322 - val_accuracy: 0.9785 - val_loss: 0.0702\n",
            "Epoch 6/20\n",
            "\u001b[1m1875/1875\u001b[0m \u001b[32m━━━━━━━━━━━━━━━━━━━━\u001b[0m\u001b[37m\u001b[0m \u001b[1m11s\u001b[0m 6ms/step - accuracy: 0.9928 - loss: 0.0229 - val_accuracy: 0.9791 - val_loss: 0.0722\n",
            "Epoch 7/20\n",
            "\u001b[1m1875/1875\u001b[0m \u001b[32m━━━━━━━━━━━━━━━━━━━━\u001b[0m\u001b[37m\u001b[0m \u001b[1m20s\u001b[0m 6ms/step - accuracy: 0.9938 - loss: 0.0188 - val_accuracy: 0.9805 - val_loss: 0.0719\n",
            "Epoch 8/20\n",
            "\u001b[1m1875/1875\u001b[0m \u001b[32m━━━━━━━━━━━━━━━━━━━━\u001b[0m\u001b[37m\u001b[0m \u001b[1m10s\u001b[0m 5ms/step - accuracy: 0.9963 - loss: 0.0122 - val_accuracy: 0.9797 - val_loss: 0.0685\n",
            "Epoch 9/20\n",
            "\u001b[1m1875/1875\u001b[0m \u001b[32m━━━━━━━━━━━━━━━━━━━━\u001b[0m\u001b[37m\u001b[0m \u001b[1m11s\u001b[0m 6ms/step - accuracy: 0.9968 - loss: 0.0110 - val_accuracy: 0.9803 - val_loss: 0.0760\n",
            "Epoch 10/20\n",
            "\u001b[1m1875/1875\u001b[0m \u001b[32m━━━━━━━━━━━━━━━━━━━━\u001b[0m\u001b[37m\u001b[0m \u001b[1m11s\u001b[0m 6ms/step - accuracy: 0.9964 - loss: 0.0108 - val_accuracy: 0.9790 - val_loss: 0.0871\n",
            "Epoch 11/20\n",
            "\u001b[1m1875/1875\u001b[0m \u001b[32m━━━━━━━━━━━━━━━━━━━━\u001b[0m\u001b[37m\u001b[0m \u001b[1m11s\u001b[0m 6ms/step - accuracy: 0.9976 - loss: 0.0073 - val_accuracy: 0.9805 - val_loss: 0.0849\n",
            "Epoch 12/20\n",
            "\u001b[1m1875/1875\u001b[0m \u001b[32m━━━━━━━━━━━━━━━━━━━━\u001b[0m\u001b[37m\u001b[0m \u001b[1m12s\u001b[0m 6ms/step - accuracy: 0.9972 - loss: 0.0082 - val_accuracy: 0.9795 - val_loss: 0.0879\n",
            "Epoch 13/20\n",
            "\u001b[1m1875/1875\u001b[0m \u001b[32m━━━━━━━━━━━━━━━━━━━━\u001b[0m\u001b[37m\u001b[0m \u001b[1m20s\u001b[0m 6ms/step - accuracy: 0.9984 - loss: 0.0057 - val_accuracy: 0.9809 - val_loss: 0.0877\n",
            "Epoch 14/20\n",
            "\u001b[1m1875/1875\u001b[0m \u001b[32m━━━━━━━━━━━━━━━━━━━━\u001b[0m\u001b[37m\u001b[0m \u001b[1m21s\u001b[0m 6ms/step - accuracy: 0.9978 - loss: 0.0077 - val_accuracy: 0.9791 - val_loss: 0.0912\n",
            "Epoch 15/20\n",
            "\u001b[1m1875/1875\u001b[0m \u001b[32m━━━━━━━━━━━━━━━━━━━━\u001b[0m\u001b[37m\u001b[0m \u001b[1m20s\u001b[0m 6ms/step - accuracy: 0.9977 - loss: 0.0071 - val_accuracy: 0.9814 - val_loss: 0.0858\n",
            "Epoch 16/20\n",
            "\u001b[1m1875/1875\u001b[0m \u001b[32m━━━━━━━━━━━━━━━━━━━━\u001b[0m\u001b[37m\u001b[0m \u001b[1m20s\u001b[0m 6ms/step - accuracy: 0.9977 - loss: 0.0071 - val_accuracy: 0.9809 - val_loss: 0.0990\n",
            "Epoch 17/20\n",
            "\u001b[1m1875/1875\u001b[0m \u001b[32m━━━━━━━━━━━━━━━━━━━━\u001b[0m\u001b[37m\u001b[0m \u001b[1m20s\u001b[0m 6ms/step - accuracy: 0.9990 - loss: 0.0031 - val_accuracy: 0.9813 - val_loss: 0.0985\n",
            "Epoch 18/20\n",
            "\u001b[1m1875/1875\u001b[0m \u001b[32m━━━━━━━━━━━━━━━━━━━━\u001b[0m\u001b[37m\u001b[0m \u001b[1m11s\u001b[0m 6ms/step - accuracy: 0.9986 - loss: 0.0047 - val_accuracy: 0.9799 - val_loss: 0.1091\n",
            "Epoch 19/20\n",
            "\u001b[1m1875/1875\u001b[0m \u001b[32m━━━━━━━━━━━━━━━━━━━━\u001b[0m\u001b[37m\u001b[0m \u001b[1m21s\u001b[0m 6ms/step - accuracy: 0.9978 - loss: 0.0072 - val_accuracy: 0.9804 - val_loss: 0.1032\n",
            "Epoch 20/20\n",
            "\u001b[1m1875/1875\u001b[0m \u001b[32m━━━━━━━━━━━━━━━━━━━━\u001b[0m\u001b[37m\u001b[0m \u001b[1m19s\u001b[0m 6ms/step - accuracy: 0.9987 - loss: 0.0037 - val_accuracy: 0.9815 - val_loss: 0.1069\n"
          ]
        }
      ],
      "source": [
        "# Hint: redefine the model variable\n",
        "model = keras.Sequential([\n",
        "    keras.layers.Flatten(input_shape=(28, 28)),  # Input layer\n",
        "    keras.layers.Dense(256, activation='relu'),  # Hidden layer\n",
        "    keras.layers.Dense(10, activation='softmax')  # Output layer\n",
        "])\n",
        "\n",
        "# Compile model\n",
        "model.compile(optimizer='adam', loss='sparse_categorical_crossentropy', metrics=['accuracy'])\n",
        "\n",
        "# Train model with TensorBoard logging\n",
        "r = model.fit(x_train, y_train, epochs=20, validation_data=(x_test, y_test))\n"
      ]
    },
    {
      "cell_type": "markdown",
      "id": "09794371",
      "metadata": {
        "id": "09794371"
      },
      "source": [
        "2. Increase the number of epochs and analyze training trends. Display training vs validation accuracy to check for overfitting.\n"
      ]
    },
    {
      "cell_type": "code",
      "execution_count": 42,
      "id": "8c0f2184",
      "metadata": {
        "colab": {
          "base_uri": "https://localhost:8080/",
          "height": 505
        },
        "id": "8c0f2184",
        "outputId": "4424dd76-d589-4943-9a54-cfc7ae687645"
      },
      "outputs": [
        {
          "output_type": "execute_result",
          "data": {
            "text/plain": [
              "Text(0.5, 1.0, 'Loss Over Epochs')"
            ]
          },
          "metadata": {},
          "execution_count": 42
        },
        {
          "output_type": "display_data",
          "data": {
            "text/plain": [
              "<Figure size 1000x500 with 1 Axes>"
            ],
            "image/png": "[encoded data removed]"
          },
          "metadata": {}
        }
      ],
      "source": [
        "# Hint: change parameters in the model.fit() function\n",
        "plt.figure(figsize=(10, 5))\n",
        "plt.subplot(1, 2, 1)\n",
        "plt.plot(r.history['loss'], label='Train Loss')\n",
        "plt.plot(r.history['val_loss'], label='Validation Loss')\n",
        "plt.xlabel('Epoch')\n",
        "plt.ylabel('Loss')\n",
        "plt.legend()\n",
        "plt.title('Loss Over Epochs')"
      ]
    },
    {
      "cell_type": "markdown",
      "id": "dbd65683",
      "metadata": {
        "id": "dbd65683"
      },
      "source": [
        "3. Experiment with different activation functions (e.g., `tanh`, `sigmoid`) and display the model performance for each function.\n"
      ]
    },
    {
      "cell_type": "code",
      "execution_count": 43,
      "id": "a5cbfe70",
      "metadata": {
        "colab": {
          "base_uri": "https://localhost:8080/",
          "height": 862
        },
        "id": "a5cbfe70",
        "outputId": "bb9f5ed9-8f94-4401-ea4c-165c371b6976"
      },
      "outputs": [
        {
          "output_type": "stream",
          "name": "stdout",
          "text": [
            "Epoch 1/10\n",
            "\u001b[1m1875/1875\u001b[0m \u001b[32m━━━━━━━━━━━━━━━━━━━━\u001b[0m\u001b[37m\u001b[0m \u001b[1m12s\u001b[0m 6ms/step - accuracy: 0.8812 - loss: 0.4050 - val_accuracy: 0.9533 - val_loss: 0.1514\n",
            "Epoch 2/10\n",
            "\u001b[1m1875/1875\u001b[0m \u001b[32m━━━━━━━━━━━━━━━━━━━━\u001b[0m\u001b[37m\u001b[0m \u001b[1m11s\u001b[0m 6ms/step - accuracy: 0.9606 - loss: 0.1359 - val_accuracy: 0.9668 - val_loss: 0.1122\n",
            "Epoch 3/10\n",
            "\u001b[1m1875/1875\u001b[0m \u001b[32m━━━━━━━━━━━━━━━━━━━━\u001b[0m\u001b[37m\u001b[0m \u001b[1m12s\u001b[0m 6ms/step - accuracy: 0.9746 - loss: 0.0855 - val_accuracy: 0.9721 - val_loss: 0.0925\n",
            "Epoch 4/10\n",
            "\u001b[1m1875/1875\u001b[0m \u001b[32m━━━━━━━━━━━━━━━━━━━━\u001b[0m\u001b[37m\u001b[0m \u001b[1m19s\u001b[0m 5ms/step - accuracy: 0.9829 - loss: 0.0572 - val_accuracy: 0.9771 - val_loss: 0.0742\n",
            "Epoch 5/10\n",
            "\u001b[1m1875/1875\u001b[0m \u001b[32m━━━━━━━━━━━━━━━━━━━━\u001b[0m\u001b[37m\u001b[0m \u001b[1m10s\u001b[0m 5ms/step - accuracy: 0.9888 - loss: 0.0382 - val_accuracy: 0.9766 - val_loss: 0.0762\n",
            "Epoch 6/10\n",
            "\u001b[1m1875/1875\u001b[0m \u001b[32m━━━━━━━━━━━━━━━━━━━━\u001b[0m\u001b[37m\u001b[0m \u001b[1m11s\u001b[0m 6ms/step - accuracy: 0.9922 - loss: 0.0281 - val_accuracy: 0.9776 - val_loss: 0.0711\n",
            "Epoch 7/10\n",
            "\u001b[1m1875/1875\u001b[0m \u001b[32m━━━━━━━━━━━━━━━━━━━━\u001b[0m\u001b[37m\u001b[0m \u001b[1m20s\u001b[0m 6ms/step - accuracy: 0.9944 - loss: 0.0207 - val_accuracy: 0.9773 - val_loss: 0.0702\n",
            "Epoch 8/10\n",
            "\u001b[1m1875/1875\u001b[0m \u001b[32m━━━━━━━━━━━━━━━━━━━━\u001b[0m\u001b[37m\u001b[0m \u001b[1m20s\u001b[0m 5ms/step - accuracy: 0.9966 - loss: 0.0140 - val_accuracy: 0.9780 - val_loss: 0.0763\n",
            "Epoch 9/10\n",
            "\u001b[1m1875/1875\u001b[0m \u001b[32m━━━━━━━━━━━━━━━━━━━━\u001b[0m\u001b[37m\u001b[0m \u001b[1m11s\u001b[0m 6ms/step - accuracy: 0.9977 - loss: 0.0110 - val_accuracy: 0.9754 - val_loss: 0.0854\n",
            "Epoch 10/10\n",
            "\u001b[1m1875/1875\u001b[0m \u001b[32m━━━━━━━━━━━━━━━━━━━━\u001b[0m\u001b[37m\u001b[0m \u001b[1m11s\u001b[0m 6ms/step - accuracy: 0.9974 - loss: 0.0097 - val_accuracy: 0.9811 - val_loss: 0.0683\n"
          ]
        },
        {
          "output_type": "execute_result",
          "data": {
            "text/plain": [
              "Text(0.5, 1.0, 'Loss Over Epochs')"
            ]
          },
          "metadata": {},
          "execution_count": 43
        },
        {
          "output_type": "display_data",
          "data": {
            "text/plain": [
              "<Figure size 1000x500 with 1 Axes>"
            ],
            "image/png": "[encoded data removed]"
          },
          "metadata": {}
        }
      ],
      "source": [
        "# Hint: change parameters in the model.compile() function\n",
        "model = keras.Sequential([\n",
        "    keras.layers.Flatten(input_shape=(28, 28)),  # Input layer\n",
        "    keras.layers.Dense(256, activation='tanh'),  # Hidden layer\n",
        "    keras.layers.Dense(10, activation='softmax')  # Output layer\n",
        "])\n",
        "model.compile(optimizer='adam', loss='sparse_categorical_crossentropy', metrics=['accuracy'])\n",
        "\n",
        "# Train model with TensorBoard logging\n",
        "h = model.fit(x_train, y_train, epochs=10, validation_data=(x_test, y_test))\n",
        "\n",
        "plt.figure(figsize=(10, 5))\n",
        "plt.subplot(1, 2, 1)\n",
        "plt.plot(h.history['loss'], label='Train Loss')\n",
        "plt.plot(h.history['val_loss'], label='Validation Loss')\n",
        "plt.xlabel('Epoch')\n",
        "plt.ylabel('Loss')\n",
        "plt.legend()\n",
        "plt.title('Loss Over Epochs')"
      ]
    },
    {
      "cell_type": "markdown",
      "id": "c2575668",
      "metadata": {
        "id": "c2575668"
      },
      "source": [
        "4. Select your preferred activation function and try different optimizers (`SGD`, `RMSprop`,`Adamax`). Display the model performance for each optimizer."
      ]
    },
    {
      "cell_type": "code",
      "execution_count": 45,
      "id": "b09b2fb7",
      "metadata": {
        "colab": {
          "base_uri": "https://localhost:8080/"
        },
        "id": "b09b2fb7",
        "outputId": "30dd074b-6e5c-4c28-c4a8-299e0158adbf"
      },
      "outputs": [
        {
          "output_type": "stream",
          "name": "stdout",
          "text": [
            "Epoch 1/5\n",
            "\u001b[1m1875/1875\u001b[0m \u001b[32m━━━━━━━━━━━━━━━━━━━━\u001b[0m\u001b[37m\u001b[0m \u001b[1m8s\u001b[0m 4ms/step - accuracy: 0.7636 - loss: 0.9028\n",
            "Epoch 2/5\n",
            "\u001b[1m1875/1875\u001b[0m \u001b[32m━━━━━━━━━━━━━━━━━━━━\u001b[0m\u001b[37m\u001b[0m \u001b[1m10s\u001b[0m 4ms/step - accuracy: 0.8972 - loss: 0.3657\n",
            "Epoch 3/5\n",
            "\u001b[1m1875/1875\u001b[0m \u001b[32m━━━━━━━━━━━━━━━━━━━━\u001b[0m\u001b[37m\u001b[0m \u001b[1m9s\u001b[0m 3ms/step - accuracy: 0.9104 - loss: 0.3189\n",
            "Epoch 4/5\n",
            "\u001b[1m1875/1875\u001b[0m \u001b[32m━━━━━━━━━━━━━━━━━━━━\u001b[0m\u001b[37m\u001b[0m \u001b[1m10s\u001b[0m 3ms/step - accuracy: 0.9161 - loss: 0.2898\n",
            "Epoch 5/5\n",
            "\u001b[1m1875/1875\u001b[0m \u001b[32m━━━━━━━━━━━━━━━━━━━━\u001b[0m\u001b[37m\u001b[0m \u001b[1m10s\u001b[0m 3ms/step - accuracy: 0.9230 - loss: 0.2729\n",
            "optimizer: SGD, test accuracy: 0.9271000027656555\n",
            "Epoch 1/5\n",
            "\u001b[1m1875/1875\u001b[0m \u001b[32m━━━━━━━━━━━━━━━━━━━━\u001b[0m\u001b[37m\u001b[0m \u001b[1m9s\u001b[0m 5ms/step - accuracy: 0.9230 - loss: 0.2627\n",
            "Epoch 2/5\n",
            "\u001b[1m1875/1875\u001b[0m \u001b[32m━━━━━━━━━━━━━━━━━━━━\u001b[0m\u001b[37m\u001b[0m \u001b[1m10s\u001b[0m 4ms/step - accuracy: 0.9644 - loss: 0.1204\n",
            "Epoch 3/5\n",
            "\u001b[1m1875/1875\u001b[0m \u001b[32m━━━━━━━━━━━━━━━━━━━━\u001b[0m\u001b[37m\u001b[0m \u001b[1m11s\u001b[0m 5ms/step - accuracy: 0.9768 - loss: 0.0813\n",
            "Epoch 4/5\n",
            "\u001b[1m1875/1875\u001b[0m \u001b[32m━━━━━━━━━━━━━━━━━━━━\u001b[0m\u001b[37m\u001b[0m \u001b[1m10s\u001b[0m 5ms/step - accuracy: 0.9817 - loss: 0.0592\n",
            "Epoch 5/5\n",
            "\u001b[1m1875/1875\u001b[0m \u001b[32m━━━━━━━━━━━━━━━━━━━━\u001b[0m\u001b[37m\u001b[0m \u001b[1m9s\u001b[0m 5ms/step - accuracy: 0.9870 - loss: 0.0435\n",
            "optimizer: RMSprop, test accuracy: 0.9775000214576721\n",
            "Epoch 1/5\n",
            "\u001b[1m1875/1875\u001b[0m \u001b[32m━━━━━━━━━━━━━━━━━━━━\u001b[0m\u001b[37m\u001b[0m \u001b[1m10s\u001b[0m 5ms/step - accuracy: 0.9917 - loss: 0.0284\n",
            "Epoch 2/5\n",
            "\u001b[1m1875/1875\u001b[0m \u001b[32m━━━━━━━━━━━━━━━━━━━━\u001b[0m\u001b[37m\u001b[0m \u001b[1m9s\u001b[0m 5ms/step - accuracy: 0.9944 - loss: 0.0222\n",
            "Epoch 3/5\n",
            "\u001b[1m1875/1875\u001b[0m \u001b[32m━━━━━━━━━━━━━━━━━━━━\u001b[0m\u001b[37m\u001b[0m \u001b[1m10s\u001b[0m 5ms/step - accuracy: 0.9956 - loss: 0.0186\n",
            "Epoch 4/5\n",
            "\u001b[1m1875/1875\u001b[0m \u001b[32m━━━━━━━━━━━━━━━━━━━━\u001b[0m\u001b[37m\u001b[0m \u001b[1m10s\u001b[0m 5ms/step - accuracy: 0.9963 - loss: 0.0170\n",
            "Epoch 5/5\n",
            "\u001b[1m1875/1875\u001b[0m \u001b[32m━━━━━━━━━━━━━━━━━━━━\u001b[0m\u001b[37m\u001b[0m \u001b[1m10s\u001b[0m 5ms/step - accuracy: 0.9973 - loss: 0.0156\n",
            "optimizer: Adamax, test accuracy: 0.9825000166893005\n"
          ]
        }
      ],
      "source": [
        "# Hint: write a function to run models with different optimizers and save the accuracies to display\n",
        "\n",
        "opts = ['SGD', 'RMSprop','Adamax']\n",
        "\n",
        "model = keras.Sequential([\n",
        "    keras.layers.Flatten(input_shape=(28, 28)),  # Input layer\n",
        "    keras.layers.Dense(256, activation='tanh'),  # Hidden layer\n",
        "    keras.layers.Dense(10, activation='softmax')  # Output layer\n",
        "])\n",
        "\n",
        "\n",
        "def build_and_train_model(optimizer):\n",
        "\n",
        "\n",
        "    model.compile(optimizer=optimizer, loss='sparse_categorical_crossentropy', metrics=['accuracy'])\n",
        "    model.fit(x_train, y_train, epochs=5)\n",
        "\n",
        "    # Get final accuracy\n",
        "    test_loss, test_acc = model.evaluate(x_test, y_test, verbose=0)\n",
        "    return test_acc\n",
        "\n",
        "\n",
        "for opt in opts:\n",
        "  acc = build_and_train_model(opt)\n",
        "  print(f'optimizer: {opt}, test accuracy: {acc}')\n"
      ]
    },
    {
      "cell_type": "markdown",
      "id": "00a63019",
      "metadata": {
        "id": "00a63019"
      },
      "source": [
        "## Implementing and exploring CNNs (45 min)"
      ]
    },
    {
      "cell_type": "code",
      "execution_count": 46,
      "id": "2e5cea5e",
      "metadata": {
        "colab": {
          "base_uri": "https://localhost:8080/"
        },
        "id": "2e5cea5e",
        "outputId": "5495a84c-8bbf-4203-d1b9-8520705e8178"
      },
      "outputs": [
        {
          "output_type": "stream",
          "name": "stderr",
          "text": [
            "/usr/local/lib/python3.11/dist-packages/keras/src/layers/convolutional/base_conv.py:107: UserWarning: Do not pass an `input_shape`/`input_dim` argument to a layer. When using Sequential models, prefer using an `Input(shape)` object as the first layer in the model instead.\n",
            "  super().__init__(activity_regularizer=activity_regularizer, **kwargs)\n"
          ]
        },
        {
          "output_type": "stream",
          "name": "stdout",
          "text": [
            "Epoch 1/5\n",
            "\u001b[1m1875/1875\u001b[0m \u001b[32m━━━━━━━━━━━━━━━━━━━━\u001b[0m\u001b[37m\u001b[0m \u001b[1m56s\u001b[0m 29ms/step - accuracy: 0.9022 - loss: 0.3229 - val_accuracy: 0.9849 - val_loss: 0.0487\n",
            "Epoch 2/5\n",
            "\u001b[1m1875/1875\u001b[0m \u001b[32m━━━━━━━━━━━━━━━━━━━━\u001b[0m\u001b[37m\u001b[0m \u001b[1m58s\u001b[0m 31ms/step - accuracy: 0.9867 - loss: 0.0458 - val_accuracy: 0.9883 - val_loss: 0.0332\n",
            "Epoch 3/5\n",
            "\u001b[1m1875/1875\u001b[0m \u001b[32m━━━━━━━━━━━━━━━━━━━━\u001b[0m\u001b[37m\u001b[0m \u001b[1m54s\u001b[0m 29ms/step - accuracy: 0.9900 - loss: 0.0308 - val_accuracy: 0.9879 - val_loss: 0.0356\n",
            "Epoch 4/5\n",
            "\u001b[1m1875/1875\u001b[0m \u001b[32m━━━━━━━━━━━━━━━━━━━━\u001b[0m\u001b[37m\u001b[0m \u001b[1m54s\u001b[0m 29ms/step - accuracy: 0.9939 - loss: 0.0201 - val_accuracy: 0.9899 - val_loss: 0.0292\n",
            "Epoch 5/5\n",
            "\u001b[1m1875/1875\u001b[0m \u001b[32m━━━━━━━━━━━━━━━━━━━━\u001b[0m\u001b[37m\u001b[0m \u001b[1m84s\u001b[0m 30ms/step - accuracy: 0.9950 - loss: 0.0159 - val_accuracy: 0.9910 - val_loss: 0.0298\n"
          ]
        },
        {
          "output_type": "execute_result",
          "data": {
            "text/plain": [
              "<keras.src.callbacks.history.History at 0x7d1548b923d0>"
            ]
          },
          "metadata": {},
          "execution_count": 46
        }
      ],
      "source": [
        "\n",
        "# Reshape data for CNN input\n",
        "x_train_cnn = x_train.reshape(-1, 28, 28, 1)\n",
        "x_test_cnn = x_test.reshape(-1, 28, 28, 1)\n",
        "\n",
        "# Define a CNN model\n",
        "cnn_model = keras.Sequential([\n",
        "    keras.layers.Conv2D(32, (3,3), activation='relu', input_shape=(28,28,1)),\n",
        "    keras.layers.MaxPooling2D((2,2)),\n",
        "    keras.layers.Conv2D(64, (3,3), activation='relu'),\n",
        "    keras.layers.MaxPooling2D((2,2)),\n",
        "    keras.layers.Flatten(),\n",
        "    keras.layers.Dense(64, activation='relu'),\n",
        "    keras.layers.Dense(10, activation='softmax')\n",
        "])\n",
        "\n",
        "# Compile and train\n",
        "cnn_model.compile(optimizer='adam', loss='sparse_categorical_crossentropy', metrics=['accuracy'])\n",
        "cnn_model.fit(x_train_cnn, y_train, epochs=5, validation_data=(x_test_cnn, y_test))\n"
      ]
    },
    {
      "cell_type": "code",
      "source": [
        "\n",
        "# Reshape data for CNN input\n",
        "x_train_cnn = x_train.reshape(-1, 28, 28, 1)\n",
        "x_test_cnn = x_test.reshape(-1, 28, 28, 1)\n",
        "\n",
        "# Define a CNN model\n",
        "cnn_model = keras.Sequential([\n",
        "    keras.layers.Conv2D(32, (3,3), activation='relu', input_shape=(28,28,1)),\n",
        "    keras.layers.MaxPooling2D((2,2)),\n",
        "    # keras.layers.Conv2D(64, (3,3), activation='relu'),\n",
        "    # keras.layers.MaxPooling2D((2,2)),\n",
        "    keras.layers.Flatten(),\n",
        "    keras.layers.Dense(64, activation='relu'),\n",
        "    keras.layers.Dense(10, activation='softmax')\n",
        "])\n",
        "\n",
        "# Compile and train\n",
        "cnn_model.compile(optimizer='adam', loss='sparse_categorical_crossentropy', metrics=['accuracy'])\n",
        "cnn_model.fit(x_train_cnn, y_train, epochs=5, validation_data=(x_test_cnn, y_test))"
      ],
      "metadata": {
        "colab": {
          "base_uri": "https://localhost:8080/"
        },
        "id": "fKM4phZpguRh",
        "outputId": "ca7ee252-e207-4f64-c13b-ed3187d4fd58"
      },
      "id": "fKM4phZpguRh",
      "execution_count": 47,
      "outputs": [
        {
          "output_type": "stream",
          "name": "stdout",
          "text": [
            "Epoch 1/5\n",
            "\u001b[1m1875/1875\u001b[0m \u001b[32m━━━━━━━━━━━━━━━━━━━━\u001b[0m\u001b[37m\u001b[0m \u001b[1m36s\u001b[0m 19ms/step - accuracy: 0.9004 - loss: 0.3355 - val_accuracy: 0.9795 - val_loss: 0.0651\n",
            "Epoch 2/5\n",
            "\u001b[1m1875/1875\u001b[0m \u001b[32m━━━━━━━━━━━━━━━━━━━━\u001b[0m\u001b[37m\u001b[0m \u001b[1m36s\u001b[0m 19ms/step - accuracy: 0.9826 - loss: 0.0592 - val_accuracy: 0.9803 - val_loss: 0.0613\n",
            "Epoch 3/5\n",
            "\u001b[1m1875/1875\u001b[0m \u001b[32m━━━━━━━━━━━━━━━━━━━━\u001b[0m\u001b[37m\u001b[0m \u001b[1m40s\u001b[0m 19ms/step - accuracy: 0.9885 - loss: 0.0384 - val_accuracy: 0.9840 - val_loss: 0.0504\n",
            "Epoch 4/5\n",
            "\u001b[1m1875/1875\u001b[0m \u001b[32m━━━━━━━━━━━━━━━━━━━━\u001b[0m\u001b[37m\u001b[0m \u001b[1m37s\u001b[0m 20ms/step - accuracy: 0.9919 - loss: 0.0250 - val_accuracy: 0.9857 - val_loss: 0.0468\n",
            "Epoch 5/5\n",
            "\u001b[1m1875/1875\u001b[0m \u001b[32m━━━━━━━━━━━━━━━━━━━━\u001b[0m\u001b[37m\u001b[0m \u001b[1m40s\u001b[0m 19ms/step - accuracy: 0.9946 - loss: 0.0182 - val_accuracy: 0.9866 - val_loss: 0.0442\n"
          ]
        },
        {
          "output_type": "execute_result",
          "data": {
            "text/plain": [
              "<keras.src.callbacks.history.History at 0x7d1548c00410>"
            ]
          },
          "metadata": {},
          "execution_count": 47
        }
      ]
    },
    {
      "cell_type": "markdown",
      "id": "6704ad2d",
      "metadata": {
        "id": "6704ad2d"
      },
      "source": [
        "## ✨ Exercise 3: Experiment with CNN Architecture\n",
        "1. Train the CNN with fewer training samples and observe how it affects performance.\n",
        "\n"
      ]
    },
    {
      "cell_type": "code",
      "execution_count": null,
      "id": "5048defc",
      "metadata": {
        "id": "5048defc"
      },
      "outputs": [],
      "source": [
        "# Hint: reduce the x_train and y_train sets\n",
        "\n"
      ]
    },
    {
      "cell_type": "markdown",
      "id": "6ebdd2b2",
      "metadata": {
        "id": "6ebdd2b2"
      },
      "source": [
        "2. Add more convolutional layers and see how accuracy changes.\n"
      ]
    },
    {
      "cell_type": "code",
      "execution_count": null,
      "id": "cbdcad7c",
      "metadata": {
        "id": "cbdcad7c"
      },
      "outputs": [],
      "source": [
        "# Hint: modify the cnn_model"
      ]
    },
    {
      "cell_type": "markdown",
      "id": "bacba591",
      "metadata": {
        "id": "bacba591"
      },
      "source": [
        "3. Try different kernel sizes (e.g., `(5,5)` instead of `(3,3)`).\n"
      ]
    },
    {
      "cell_type": "code",
      "execution_count": null,
      "id": "d9a57b7e",
      "metadata": {
        "id": "d9a57b7e"
      },
      "outputs": [],
      "source": [
        "# Hint: change the parameters in the Conv2D layers"
      ]
    },
    {
      "cell_type": "markdown",
      "id": "b90ea264",
      "metadata": {
        "id": "b90ea264"
      },
      "source": [
        "4. Add dropout layers to prevent overfitting."
      ]
    },
    {
      "cell_type": "code",
      "execution_count": null,
      "id": "cd4afeab",
      "metadata": {
        "id": "cd4afeab"
      },
      "outputs": [],
      "source": [
        "# Hint: Use keras.layers.Dropout(0.3) for dropout layers in your cnn_model\n",
        "\n"
      ]
    },
    {
      "cell_type": "markdown",
      "id": "f8833399",
      "metadata": {
        "id": "f8833399"
      },
      "source": [
        "## Visualizing Feature Maps of CNN Layers (15 min)"
      ]
    },
    {
      "cell_type": "markdown",
      "id": "a4e51cf6",
      "metadata": {
        "id": "a4e51cf6"
      },
      "source": [
        "We now aim to understand a bit more about the internal functioning of the CNN model we've written. Let's try to visualise the convolutional filters being created."
      ]
    },
    {
      "cell_type": "markdown",
      "id": "6ecdc032",
      "metadata": {
        "id": "6ecdc032"
      },
      "source": [
        "## ✨ Exercise 4: Visualise the CNN filters\n",
        "\n",
        "Write a function that visualises the filters at each level of your CNN model and display them\n"
      ]
    },
    {
      "cell_type": "code",
      "execution_count": 58,
      "id": "9422bf6d",
      "metadata": {
        "colab": {
          "base_uri": "https://localhost:8080/",
          "height": 79
        },
        "id": "9422bf6d",
        "outputId": "49dde85c-7e12-43fa-d2fd-87080c84e058"
      },
      "outputs": [
        {
          "output_type": "stream",
          "name": "stdout",
          "text": [
            "(3, 3, 1, 32)\n"
          ]
        },
        {
          "output_type": "display_data",
          "data": {
            "text/plain": [
              "<Figure size 3200x100 with 32 Axes>"
            ],
            "image/png": "[encoded data removed]"
          },
          "metadata": {}
        }
      ],
      "source": [
        "\n",
        "\n",
        "#  Visualizing Filters (Kernels)\n",
        "def visualize_filters(model, layer_index=0):\n",
        "\n",
        "    filters, biases = model.layers[layer_index].get_weights()  # Get filters and biases\n",
        "    print(filters.shape)\n",
        "    fig, axes = plt.subplots(filters.shape[-2], filters.shape[-1], figsize=(filters.shape[-1], filters.shape[-2]))\n",
        "    # print(axes.shape)\n",
        "    # fig.suptitle(f'Filters of layer {layer.name}', fontsize=12)\n",
        "    # print(filters.shape)\n",
        "    for i in range(filters.shape[-1]):\n",
        "      for j in range(filters.shape[-2]):\n",
        "        ax = axes[j, i] if filters.shape[-2] > 1 else axes[i]\n",
        "        ax.imshow(filters[:, :, j, i], cmap='gray')  # Display filter\n",
        "        ax.axis('off')\n",
        "    plt.show()\n",
        "\n",
        "\n",
        "\n",
        "\n",
        "\n",
        "    #....\n",
        "\n",
        "# Call function to visualize filters in the first Conv2D layer\n",
        "visualize_filters(cnn_model, layer_index=0)  # First Conv2D layer\n",
        "# visualize_filters(cnn_model, layer_index=2)  # Second Conv2D layer\n",
        "\n"
      ]
    },
    {
      "cell_type": "markdown",
      "id": "a0b5774a",
      "metadata": {
        "id": "a0b5774a"
      },
      "source": [
        "## Stretch goal: Train a Model on a Custom Dataset (1 hour)\n",
        "1. Use a more complex image dataset (e.g.CIFAR-10 - 10 classes of more complex objects) and display examples of the data.\n",
        "2. Train a model to classify the datset.\n",
        "3. Modify the neural network architecture to improve accuracy and display its improved performance.\n"
      ]
    }
  ],
  "metadata": {
    "kernelspec": {
      "display_name": "Python 3",
      "name": "python3"
    },
    "language_info": {
      "codemirror_mode": {
        "name": "ipython",
        "version": 3
      },
      "file_extension": ".py",
      "mimetype": "text/x-python",
      "name": "python",
      "nbconvert_exporter": "python",
      "pygments_lexer": "ipython3",
      "version": "3.12.3"
    },
    "colab": {
      "provenance": [],
      "include_colab_link": true
    }
  },
  "nbformat": 4,
  "nbformat_minor": 5
}